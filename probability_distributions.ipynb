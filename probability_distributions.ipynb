{
 "cells": [
  {
   "cell_type": "code",
   "execution_count": 138,
   "id": "bd438402",
   "metadata": {},
   "outputs": [],
   "source": [
    "import matplotlib.pyplot as plt\n",
    "import numpy as np\n",
    "import pandas as pd\n",
    "from scipy import stats\n",
    "import seaborn as sns"
   ]
  },
  {
   "cell_type": "markdown",
   "id": "1a6899dc",
   "metadata": {},
   "source": [
    "1. A bank found that the average number of cars waiting during the noon hour at a drive-up window follows a Poisson distribution with a mean of 2 cars. Make a chart of this distribution and answer these questions concerning the probability of cars waiting at the drive-up window."
   ]
  },
  {
   "cell_type": "code",
   "execution_count": 105,
   "id": "6611a0d4",
   "metadata": {},
   "outputs": [
    {
     "data": {
      "image/png": "[encoded data removed]",
      "text/plain": [
       "<Figure size 432x288 with 1 Axes>"
      ]
     },
     "metadata": {
      "needs_background": "light"
     },
     "output_type": "display_data"
    }
   ],
   "source": [
    "drive_up_window = stats.poisson(2)\n",
    "pd.Series(drive_up_window.rvs(1000)).value_counts().sort_index().plot.bar()\n",
    "plt.title('Drive Up Window Distribution')\n",
    "plt.show()"
   ]
  },
  {
   "cell_type": "markdown",
   "id": "d17af569",
   "metadata": {},
   "source": [
    "- What is the probability that no cars drive up in the noon hour?"
   ]
  },
  {
   "cell_type": "code",
   "execution_count": 93,
   "id": "ca9f4bcd",
   "metadata": {},
   "outputs": [],
   "source": [
    "# Experimental probability -- Create a simulation\n",
    "n_simulations = n_rows = 10_000\n",
    "n_columns = 1 \n",
    "\n",
    "simulation = np.random.poisson(2, (n_rows, n_columns))\n",
    "simulation_df = pd.DataFrame(simulation)"
   ]
  },
  {
   "cell_type": "code",
   "execution_count": 94,
   "id": "7dd770ce",
   "metadata": {},
   "outputs": [
    {
     "data": {
      "text/html": [
       "<div>\n",
       "<style scoped>\n",
       "    .dataframe tbody tr th:only-of-type {\n",
       "        vertical-align: middle;\n",
       "    }\n",
       "\n",
       "    .dataframe tbody tr th {\n",
       "        vertical-align: top;\n",
       "    }\n",
       "\n",
       "    .dataframe thead th {\n",
       "        text-align: right;\n",
       "    }\n",
       "</style>\n",
       "<table border=\"1\" class=\"dataframe\">\n",
       "  <thead>\n",
       "    <tr style=\"text-align: right;\">\n",
       "      <th></th>\n",
       "      <th>0</th>\n",
       "      <th>no_cars</th>\n",
       "    </tr>\n",
       "  </thead>\n",
       "  <tbody>\n",
       "    <tr>\n",
       "      <th>0</th>\n",
       "      <td>2</td>\n",
       "      <td>False</td>\n",
       "    </tr>\n",
       "    <tr>\n",
       "      <th>1</th>\n",
       "      <td>0</td>\n",
       "      <td>True</td>\n",
       "    </tr>\n",
       "    <tr>\n",
       "      <th>2</th>\n",
       "      <td>1</td>\n",
       "      <td>False</td>\n",
       "    </tr>\n",
       "    <tr>\n",
       "      <th>3</th>\n",
       "      <td>4</td>\n",
       "      <td>False</td>\n",
       "    </tr>\n",
       "    <tr>\n",
       "      <th>4</th>\n",
       "      <td>3</td>\n",
       "      <td>False</td>\n",
       "    </tr>\n",
       "    <tr>\n",
       "      <th>...</th>\n",
       "      <td>...</td>\n",
       "      <td>...</td>\n",
       "    </tr>\n",
       "    <tr>\n",
       "      <th>9995</th>\n",
       "      <td>2</td>\n",
       "      <td>False</td>\n",
       "    </tr>\n",
       "    <tr>\n",
       "      <th>9996</th>\n",
       "      <td>5</td>\n",
       "      <td>False</td>\n",
       "    </tr>\n",
       "    <tr>\n",
       "      <th>9997</th>\n",
       "      <td>3</td>\n",
       "      <td>False</td>\n",
       "    </tr>\n",
       "    <tr>\n",
       "      <th>9998</th>\n",
       "      <td>2</td>\n",
       "      <td>False</td>\n",
       "    </tr>\n",
       "    <tr>\n",
       "      <th>9999</th>\n",
       "      <td>3</td>\n",
       "      <td>False</td>\n",
       "    </tr>\n",
       "  </tbody>\n",
       "</table>\n",
       "<p>10000 rows × 2 columns</p>\n",
       "</div>"
      ],
      "text/plain": [
       "      0  no_cars\n",
       "0     2    False\n",
       "1     0     True\n",
       "2     1    False\n",
       "3     4    False\n",
       "4     3    False\n",
       "...  ..      ...\n",
       "9995  2    False\n",
       "9996  5    False\n",
       "9997  3    False\n",
       "9998  2    False\n",
       "9999  3    False\n",
       "\n",
       "[10000 rows x 2 columns]"
      ]
     },
     "execution_count": 94,
     "metadata": {},
     "output_type": "execute_result"
    }
   ],
   "source": [
    "# Converting to a pandas dataframe with a column matching our condition\n",
    "simulation_df['no_cars'] = simulation_df[0] == 0\n",
    "simulation_df"
   ]
  },
  {
   "cell_type": "code",
   "execution_count": 95,
   "id": "33fe5f87",
   "metadata": {},
   "outputs": [
    {
     "data": {
      "text/plain": [
       "0.1324"
      ]
     },
     "execution_count": 95,
     "metadata": {},
     "output_type": "execute_result"
    }
   ],
   "source": [
    "#Experimenatal Probability\n",
    "simulation_df['no_cars'].mean() "
   ]
  },
  {
   "cell_type": "code",
   "execution_count": 96,
   "id": "2068223d",
   "metadata": {},
   "outputs": [
    {
     "data": {
      "text/plain": [
       "0.1353352832366127"
      ]
     },
     "execution_count": 96,
     "metadata": {},
     "output_type": "execute_result"
    }
   ],
   "source": [
    "#Theoretical probabiity\n",
    "drive_up_window.pmf(0) "
   ]
  },
  {
   "cell_type": "markdown",
   "id": "3497c70e",
   "metadata": {},
   "source": [
    "- What is the probability that 3 or more cars come through the drive through?"
   ]
  },
  {
   "cell_type": "code",
   "execution_count": 74,
   "id": "b374533e",
   "metadata": {},
   "outputs": [],
   "source": [
    "#Experimental probability - Adding column with new paramater \n",
    "simulation_df['3_or_more'] = simulation_df[0] >= 3"
   ]
  },
  {
   "cell_type": "code",
   "execution_count": 75,
   "id": "566e19bd",
   "metadata": {},
   "outputs": [
    {
     "data": {
      "text/plain": [
       "0.3306"
      ]
     },
     "execution_count": 75,
     "metadata": {},
     "output_type": "execute_result"
    }
   ],
   "source": [
    "#Experimental Probability \n",
    "simulation_df['3_or_more'].mean()"
   ]
  },
  {
   "cell_type": "code",
   "execution_count": 64,
   "id": "6ea7ca7b",
   "metadata": {},
   "outputs": [
    {
     "data": {
      "text/plain": [
       "0.32332358381693654"
      ]
     },
     "execution_count": 64,
     "metadata": {},
     "output_type": "execute_result"
    }
   ],
   "source": [
    "#theoretical probability\n",
    "drive_up_window.sf(2) "
   ]
  },
  {
   "cell_type": "markdown",
   "id": "8786038e",
   "metadata": {},
   "source": [
    "- How likely is it that the drive through gets at least 1 car?"
   ]
  },
  {
   "cell_type": "code",
   "execution_count": 79,
   "id": "20addb23",
   "metadata": {},
   "outputs": [
    {
     "data": {
      "text/html": [
       "<div>\n",
       "<style scoped>\n",
       "    .dataframe tbody tr th:only-of-type {\n",
       "        vertical-align: middle;\n",
       "    }\n",
       "\n",
       "    .dataframe tbody tr th {\n",
       "        vertical-align: top;\n",
       "    }\n",
       "\n",
       "    .dataframe thead th {\n",
       "        text-align: right;\n",
       "    }\n",
       "</style>\n",
       "<table border=\"1\" class=\"dataframe\">\n",
       "  <thead>\n",
       "    <tr style=\"text-align: right;\">\n",
       "      <th></th>\n",
       "      <th>0</th>\n",
       "      <th>no_cars</th>\n",
       "      <th>3_or_more</th>\n",
       "      <th>at_least_1</th>\n",
       "    </tr>\n",
       "  </thead>\n",
       "  <tbody>\n",
       "    <tr>\n",
       "      <th>0</th>\n",
       "      <td>1</td>\n",
       "      <td>False</td>\n",
       "      <td>False</td>\n",
       "      <td>True</td>\n",
       "    </tr>\n",
       "    <tr>\n",
       "      <th>1</th>\n",
       "      <td>5</td>\n",
       "      <td>False</td>\n",
       "      <td>True</td>\n",
       "      <td>True</td>\n",
       "    </tr>\n",
       "    <tr>\n",
       "      <th>2</th>\n",
       "      <td>2</td>\n",
       "      <td>False</td>\n",
       "      <td>False</td>\n",
       "      <td>True</td>\n",
       "    </tr>\n",
       "    <tr>\n",
       "      <th>3</th>\n",
       "      <td>1</td>\n",
       "      <td>False</td>\n",
       "      <td>False</td>\n",
       "      <td>True</td>\n",
       "    </tr>\n",
       "    <tr>\n",
       "      <th>4</th>\n",
       "      <td>2</td>\n",
       "      <td>False</td>\n",
       "      <td>False</td>\n",
       "      <td>True</td>\n",
       "    </tr>\n",
       "  </tbody>\n",
       "</table>\n",
       "</div>"
      ],
      "text/plain": [
       "   0  no_cars  3_or_more  at_least_1\n",
       "0  1    False      False        True\n",
       "1  5    False       True        True\n",
       "2  2    False      False        True\n",
       "3  1    False      False        True\n",
       "4  2    False      False        True"
      ]
     },
     "execution_count": 79,
     "metadata": {},
     "output_type": "execute_result"
    }
   ],
   "source": [
    "#Experimental probability - Adding column with new paramater \n",
    "simulation_df['at_least_1'] = simulation_df[0] >= 1\n",
    "simulation_df.head()"
   ]
  },
  {
   "cell_type": "code",
   "execution_count": 80,
   "id": "c83e8199",
   "metadata": {},
   "outputs": [
    {
     "data": {
      "text/plain": [
       "0.8682"
      ]
     },
     "execution_count": 80,
     "metadata": {},
     "output_type": "execute_result"
    }
   ],
   "source": [
    "#Experimental Probability \n",
    "simulation_df['at_least_1'].mean()"
   ]
  },
  {
   "cell_type": "markdown",
   "id": "55733d02",
   "metadata": {},
   "source": [
    "2. Grades of State University graduates are normally distributed with a mean of 3.0 and a standard deviation of .3. Calculate the following:\n",
    "\n",
    "- What grade point average is required to be in the top 5% of the graduating class?"
   ]
  },
  {
   "cell_type": "code",
   "execution_count": 65,
   "id": "3b2d715d",
   "metadata": {},
   "outputs": [
    {
     "data": {
      "text/plain": [
       "0.8646647167633873"
      ]
     },
     "execution_count": 65,
     "metadata": {},
     "output_type": "execute_result"
    }
   ],
   "source": [
    "#Theoretical probability\n",
    "drive_up_window.sf(0)"
   ]
  },
  {
   "cell_type": "code",
   "execution_count": 146,
   "id": "b720abcd",
   "metadata": {},
   "outputs": [],
   "source": [
    "#Create our distribution\n",
    "mean = 3.0\n",
    "stdev = .3\n",
    "grades = stats.norm(mean, stdev)\n"
   ]
  },
  {
   "cell_type": "code",
   "execution_count": 145,
   "id": "3c05a15f",
   "metadata": {},
   "outputs": [
    {
     "data": {
      "image/png": "[encoded data removed]",
      "text/plain": [
       "<Figure size 402.375x360 with 1 Axes>"
      ]
     },
     "metadata": {
      "needs_background": "light"
     },
     "output_type": "display_data"
    }
   ],
   "source": [
    "#Experimental probability plotted\n",
    "n_simulations = s = 10_000\n",
    "simulation = np.random.normal(mean, stdev, n)\n",
    "simulation = pd.DataFrame(simulation)\n",
    "\n",
    "sns.displot(simulation)\n",
    "x = np.linspace(mean - 3*stdev, mean + 3*stdev, 1000)\n",
    "y = stats.norm.pdf(x, mean, stdev)\n"
   ]
  },
  {
   "cell_type": "code",
   "execution_count": 197,
   "id": "a4eb9cf2",
   "metadata": {},
   "outputs": [
    {
     "data": {
      "text/plain": [
       "0    3.496229\n",
       "Name: 0.95, dtype: float64"
      ]
     },
     "execution_count": 197,
     "metadata": {},
     "output_type": "execute_result"
    }
   ],
   "source": [
    "#Experimental probability\n",
    "simulation.quantile(.95)"
   ]
  },
  {
   "cell_type": "code",
   "execution_count": 129,
   "id": "5f7f494a",
   "metadata": {},
   "outputs": [
    {
     "data": {
      "text/plain": [
       "3.4934560880854417"
      ]
     },
     "execution_count": 129,
     "metadata": {},
     "output_type": "execute_result"
    }
   ],
   "source": [
    "#Theoretical probability\n",
    "top_5_percent = grades.ppf(.95)\n",
    "top_5_percent"
   ]
  },
  {
   "cell_type": "markdown",
   "id": "e4ff20f2",
   "metadata": {},
   "source": [
    "- What GPA constitutes the bottom 15% of the class?"
   ]
  },
  {
   "cell_type": "code",
   "execution_count": 149,
   "id": "382ab3e7",
   "metadata": {},
   "outputs": [
    {
     "data": {
      "text/plain": [
       "2.689069983151863"
      ]
     },
     "execution_count": 149,
     "metadata": {},
     "output_type": "execute_result"
    }
   ],
   "source": [
    "#Theorteical \n",
    "bottom_15_percent = grades.ppf(.15)\n",
    "bottom_15_percent"
   ]
  },
  {
   "cell_type": "code",
   "execution_count": 198,
   "id": "e8ea05bc",
   "metadata": {},
   "outputs": [
    {
     "data": {
      "text/plain": [
       "0    2.686465\n",
       "Name: 0.15, dtype: float64"
      ]
     },
     "execution_count": 198,
     "metadata": {},
     "output_type": "execute_result"
    }
   ],
   "source": [
    "#Experimental\n",
    "simulation.quantile(.15)"
   ]
  },
  {
   "cell_type": "markdown",
   "id": "0e19e77f",
   "metadata": {},
   "source": [
    "- An eccentric alumnus left scholarship money for students in the third decile from the bottom of their class. Determine the range of the third decile. Would a student with a 2.8 grade point average qualify for this scholarship?"
   ]
  },
  {
   "cell_type": "code",
   "execution_count": 151,
   "id": "983b7c85",
   "metadata": {},
   "outputs": [
    {
     "data": {
      "text/plain": [
       "array([2.74751363, 2.84267985])"
      ]
     },
     "execution_count": 151,
     "metadata": {},
     "output_type": "execute_result"
    }
   ],
   "source": [
    "#Theoretical\n",
    "third_decile_from_bottom = grades.ppf([.2, .3])\n",
    "third_decile_from_bottom # Yes, 2.8 would qualify for the scholarship."
   ]
  },
  {
   "cell_type": "code",
   "execution_count": 200,
   "id": "22f42d31",
   "metadata": {},
   "outputs": [
    {
     "name": "stdout",
     "output_type": "stream",
     "text": [
      "0    2.741443\n",
      "Name: 0.2, dtype: float64\n",
      "0    2.834219\n",
      "Name: 0.3, dtype: float64\n"
     ]
    }
   ],
   "source": [
    "#Experimental\n",
    "print(simulation.quantile(.20))\n",
    "print(simulation.quantile(.30))"
   ]
  },
  {
   "cell_type": "markdown",
   "id": "3c4b2221",
   "metadata": {},
   "source": [
    "- If I have a GPA of 3.5, what percentile am I in?"
   ]
  },
  {
   "cell_type": "code",
   "execution_count": 152,
   "id": "7b704999",
   "metadata": {},
   "outputs": [
    {
     "data": {
      "text/plain": [
       "0.9522096477271853"
      ]
     },
     "execution_count": 152,
     "metadata": {},
     "output_type": "execute_result"
    }
   ],
   "source": [
    "#Theoretical \n",
    "grades.cdf(3.5) #95th Percentile"
   ]
  },
  {
   "cell_type": "code",
   "execution_count": 201,
   "id": "fe5f4d80",
   "metadata": {},
   "outputs": [
    {
     "data": {
      "text/plain": [
       "0    0.951\n",
       "dtype: float64"
      ]
     },
     "execution_count": 201,
     "metadata": {},
     "output_type": "execute_result"
    }
   ],
   "source": [
    "#Experimental\n",
    "(simulation <= 3.5).mean()"
   ]
  },
  {
   "cell_type": "markdown",
   "id": "d9c26e02",
   "metadata": {},
   "source": [
    "3. A marketing website has an average click-through rate of 2%. One day they observe 4326 visitors and 97 click-throughs. How likely is it that this many people or more click through?"
   ]
  },
  {
   "cell_type": "code",
   "execution_count": 207,
   "id": "02d96b39",
   "metadata": {},
   "outputs": [
    {
     "data": {
      "text/plain": [
       "0.13975823631416445"
      ]
     },
     "execution_count": 207,
     "metadata": {},
     "output_type": "execute_result"
    }
   ],
   "source": [
    "#Theoretical probabiity \n",
    "marketing_website = stats.binom(4326, .02)\n",
    "marketing_website.sf(96)"
   ]
  },
  {
   "cell_type": "code",
   "execution_count": 215,
   "id": "e10d874a",
   "metadata": {},
   "outputs": [
    {
     "data": {
      "text/plain": [
       "0    0.1416\n",
       "dtype: float64"
      ]
     },
     "execution_count": 215,
     "metadata": {},
     "output_type": "execute_result"
    }
   ],
   "source": [
    "#Experimental probability\n",
    "marketing_sim = stats.binom(4326, .02).rvs(10_000)\n",
    "marketing_sim = pd.DataFrame(marketing_sim)\n",
    "(marketing_sim >= 97).mean()"
   ]
  },
  {
   "cell_type": "markdown",
   "id": "36d8eff2",
   "metadata": {},
   "source": [
    "4. You are working on some statistics homework consisting of 100 questions where all of the answers are a probability rounded to the hundreths place. Looking to save time, you put down random probabilities as the answer to each question.\n",
    "\n",
    "- What is the probability that at least one of your first 60 answers is correct?"
   ]
  },
  {
   "cell_type": "code",
   "execution_count": 264,
   "id": "71798e4f",
   "metadata": {},
   "outputs": [
    {
     "data": {
      "text/plain": [
       "0.45284335760923855"
      ]
     },
     "execution_count": 264,
     "metadata": {},
     "output_type": "execute_result"
    }
   ],
   "source": [
    "#Theoretical probability \n",
    "statistics_hw = stats.binom(60,1/100)\n",
    "statistics_hw.sf(0)"
   ]
  },
  {
   "cell_type": "code",
   "execution_count": 214,
   "id": "ab53b272",
   "metadata": {},
   "outputs": [
    {
     "data": {
      "text/plain": [
       "0.4516"
      ]
     },
     "execution_count": 214,
     "metadata": {},
     "output_type": "execute_result"
    }
   ],
   "source": [
    "#Experimental probability\n",
    "(statistics_hw.rvs(10_000) >= 1).mean()"
   ]
  },
  {
   "cell_type": "markdown",
   "id": "702f2907",
   "metadata": {},
   "source": [
    "5. The codeup staff tends to get upset when the student break area is not cleaned up. Suppose that there's a 3% chance that any one student cleans the break area when they visit it, and, on any given day, about 90% of the 3 active cohorts of 22 students visit the break area. How likely is it that the break area gets cleaned up each day? How likely is it that it goes two days without getting cleaned up? All week?"
   ]
  },
  {
   "cell_type": "code",
   "execution_count": 276,
   "id": "ae3adb3e",
   "metadata": {},
   "outputs": [
    {
     "data": {
      "text/plain": [
       "0.8362274861228872"
      ]
     },
     "execution_count": 276,
     "metadata": {},
     "output_type": "execute_result"
    }
   ],
   "source": [
    "#Theoretical probability - Each day\n",
    "students = (3 * 22 *.90)\n",
    "each_day = stats.binom(students, .03)\n",
    "each_day.sf(0)"
   ]
  },
  {
   "cell_type": "code",
   "execution_count": 262,
   "id": "bc2dbecf",
   "metadata": {},
   "outputs": [
    {
     "ename": "AttributeError",
     "evalue": "'int' object has no attribute 'rvs'",
     "output_type": "error",
     "traceback": [
      "\u001b[0;31m---------------------------------------------------------------------------\u001b[0m",
      "\u001b[0;31mAttributeError\u001b[0m                            Traceback (most recent call last)",
      "\u001b[0;32m/var/folders/fg/q99bqqm954n5m7n5b4xn7tyw0000gn/T/ipykernel_26482/1623386522.py\u001b[0m in \u001b[0;36m<module>\u001b[0;34m\u001b[0m\n\u001b[1;32m      1\u001b[0m \u001b[0;31m#Experimental\u001b[0m\u001b[0;34m\u001b[0m\u001b[0;34m\u001b[0m\u001b[0m\n\u001b[1;32m      2\u001b[0m \u001b[0;34m\u001b[0m\u001b[0m\n\u001b[0;32m----> 3\u001b[0;31m \u001b[0;34m(\u001b[0m\u001b[0mstudents\u001b[0m\u001b[0;34m.\u001b[0m\u001b[0mrvs\u001b[0m\u001b[0;34m(\u001b[0m\u001b[0;36m10_000\u001b[0m\u001b[0;34m)\u001b[0m \u001b[0;34m>=\u001b[0m \u001b[0;36m1\u001b[0m\u001b[0;34m)\u001b[0m\u001b[0;34m.\u001b[0m\u001b[0mmean\u001b[0m\u001b[0;34m(\u001b[0m\u001b[0;34m)\u001b[0m\u001b[0;34m\u001b[0m\u001b[0;34m\u001b[0m\u001b[0m\n\u001b[0m",
      "\u001b[0;31mAttributeError\u001b[0m: 'int' object has no attribute 'rvs'"
     ]
    }
   ],
   "source": [
    "#Experimental\n",
    "\n",
    "(students.rvs(10_000) >= 1).mean()"
   ]
  },
  {
   "cell_type": "code",
   "execution_count": 159,
   "id": "7386a3b9",
   "metadata": {},
   "outputs": [
    {
     "data": {
      "text/plain": [
       "0.026821436301628997"
      ]
     },
     "execution_count": 159,
     "metadata": {},
     "output_type": "execute_result"
    }
   ],
   "source": [
    "#Theoretical probability - two days\n",
    "stats.binom(students * 2, .03).pmf(0)"
   ]
  },
  {
   "cell_type": "code",
   "execution_count": 160,
   "id": "3741df55",
   "metadata": {},
   "outputs": [
    {
     "data": {
      "text/plain": [
       "0.00011781621791055051"
      ]
     },
     "execution_count": 160,
     "metadata": {},
     "output_type": "execute_result"
    }
   ],
   "source": [
    "#Theoretical probability - 1 week\n",
    "stats.binom(students * 5, .03).pmf(0)"
   ]
  },
  {
   "cell_type": "markdown",
   "id": "e7d6783c",
   "metadata": {},
   "source": [
    "6. You want to get lunch at La Panaderia, but notice that the line is usually very long at lunchtime. After several weeks of careful observation, you notice that the average number of people in line when your lunch break starts is normally distributed with a mean of 15 and standard deviation of 3. If it takes 2 minutes for each person to order, and 10 minutes from ordering to getting your food, what is the likelihood that you have at least 15 minutes left to eat your food before you have to go back to class? Assume you have one hour for lunch, and ignore travel time to and from La Panaderia."
   ]
  },
  {
   "cell_type": "code",
   "execution_count": 235,
   "id": "024ccb3b",
   "metadata": {},
   "outputs": [],
   "source": [
    "# Number of people\n",
    "line_mean = 15\n",
    "line_std = 3 \n",
    "\n",
    "#Minutes\n",
    "time_to_order = 2 \n",
    "wait_for_food = 10\n",
    "time_for_lunch = 60 \n",
    "eat_time = 15\n"
   ]
  },
  {
   "cell_type": "code",
   "execution_count": 241,
   "id": "1b21fdba",
   "metadata": {},
   "outputs": [
    {
     "data": {
      "text/plain": [
       "33"
      ]
     },
     "execution_count": 241,
     "metadata": {},
     "output_type": "execute_result"
    }
   ],
   "source": [
    "# What time we need to start our order\n",
    "start_order_by = time_for_lunch - time_to_order - wait_for_food - eat_time\n",
    "start_order_by"
   ]
  },
  {
   "cell_type": "code",
   "execution_count": 242,
   "id": "33693f9a",
   "metadata": {},
   "outputs": [
    {
     "data": {
      "text/plain": [
       "0.6914624612740131"
      ]
     },
     "execution_count": 242,
     "metadata": {},
     "output_type": "execute_result"
    }
   ],
   "source": [
    "#Theoretical probability\n",
    "stats.norm(line_mean * time_to_order, line_std * time_to_order).cdf(start_order_by)"
   ]
  },
  {
   "cell_type": "code",
   "execution_count": 244,
   "id": "bcd51d73",
   "metadata": {},
   "outputs": [
    {
     "data": {
      "text/plain": [
       "0.6987"
      ]
     },
     "execution_count": 244,
     "metadata": {},
     "output_type": "execute_result"
    }
   ],
   "source": [
    "#Experimental probability\n",
    "(np.random.normal(line_mean * time_to_order, line_std * time_to_order, 10_000) <= start_order_by).mean()"
   ]
  },
  {
   "cell_type": "markdown",
   "id": "cc96e156",
   "metadata": {},
   "source": [
    "7. Connect to the employees database and find the average salary of current employees, along with the standard deviation. For the following questions, calculate the answer based on modeling the employees salaries with a normal distribution defined by the calculated mean and standard deviation then compare this answer to the actual values present in the salaries dataset."
   ]
  },
  {
   "cell_type": "code",
   "execution_count": 169,
   "id": "7e3a4381",
   "metadata": {},
   "outputs": [],
   "source": [
    "from env import host, user, password, get_db_url"
   ]
  },
  {
   "cell_type": "code",
   "execution_count": 176,
   "id": "84aa23b8",
   "metadata": {},
   "outputs": [
    {
     "data": {
      "text/html": [
       "<div>\n",
       "<style scoped>\n",
       "    .dataframe tbody tr th:only-of-type {\n",
       "        vertical-align: middle;\n",
       "    }\n",
       "\n",
       "    .dataframe tbody tr th {\n",
       "        vertical-align: top;\n",
       "    }\n",
       "\n",
       "    .dataframe thead th {\n",
       "        text-align: right;\n",
       "    }\n",
       "</style>\n",
       "<table border=\"1\" class=\"dataframe\">\n",
       "  <thead>\n",
       "    <tr style=\"text-align: right;\">\n",
       "      <th></th>\n",
       "      <th>emp_no</th>\n",
       "      <th>salary</th>\n",
       "      <th>from_date</th>\n",
       "      <th>to_date</th>\n",
       "    </tr>\n",
       "  </thead>\n",
       "  <tbody>\n",
       "    <tr>\n",
       "      <th>0</th>\n",
       "      <td>10001</td>\n",
       "      <td>88958</td>\n",
       "      <td>2002-06-22</td>\n",
       "      <td>9999-01-01</td>\n",
       "    </tr>\n",
       "    <tr>\n",
       "      <th>1</th>\n",
       "      <td>10002</td>\n",
       "      <td>72527</td>\n",
       "      <td>2001-08-02</td>\n",
       "      <td>9999-01-01</td>\n",
       "    </tr>\n",
       "    <tr>\n",
       "      <th>2</th>\n",
       "      <td>10003</td>\n",
       "      <td>43311</td>\n",
       "      <td>2001-12-01</td>\n",
       "      <td>9999-01-01</td>\n",
       "    </tr>\n",
       "    <tr>\n",
       "      <th>3</th>\n",
       "      <td>10004</td>\n",
       "      <td>74057</td>\n",
       "      <td>2001-11-27</td>\n",
       "      <td>9999-01-01</td>\n",
       "    </tr>\n",
       "    <tr>\n",
       "      <th>4</th>\n",
       "      <td>10005</td>\n",
       "      <td>94692</td>\n",
       "      <td>2001-09-09</td>\n",
       "      <td>9999-01-01</td>\n",
       "    </tr>\n",
       "  </tbody>\n",
       "</table>\n",
       "</div>"
      ],
      "text/plain": [
       "   emp_no  salary   from_date     to_date\n",
       "0   10001   88958  2002-06-22  9999-01-01\n",
       "1   10002   72527  2001-08-02  9999-01-01\n",
       "2   10003   43311  2001-12-01  9999-01-01\n",
       "3   10004   74057  2001-11-27  9999-01-01\n",
       "4   10005   94692  2001-09-09  9999-01-01"
      ]
     },
     "execution_count": 176,
     "metadata": {},
     "output_type": "execute_result"
    }
   ],
   "source": [
    "salaries = pd.read_sql('SELECT * FROM salaries WHERE to_date > NOW()', get_db_url('employees'))\n",
    "salaries.head()"
   ]
  },
  {
   "cell_type": "code",
   "execution_count": 177,
   "id": "97f04b2f",
   "metadata": {},
   "outputs": [
    {
     "data": {
      "text/plain": [
       "72012.23585730705"
      ]
     },
     "execution_count": 177,
     "metadata": {},
     "output_type": "execute_result"
    }
   ],
   "source": [
    "#Average salary of current employees\n",
    "avg_salary = salaries.salary.mean()\n",
    "avg_salary"
   ]
  },
  {
   "cell_type": "code",
   "execution_count": 178,
   "id": "b0d66aa3",
   "metadata": {},
   "outputs": [
    {
     "data": {
      "text/plain": [
       "17309.99538025198"
      ]
     },
     "execution_count": 178,
     "metadata": {},
     "output_type": "execute_result"
    }
   ],
   "source": [
    "#Standard deviation of current salaries \n",
    "salary_std = salaries.salary.std()\n",
    "salary_std"
   ]
  },
  {
   "cell_type": "code",
   "execution_count": 181,
   "id": "ef72bf04",
   "metadata": {},
   "outputs": [],
   "source": [
    "#Modeling with a normal distribution\n",
    "salary_distribution = stats.norm(avg_salary, salary_std)"
   ]
  },
  {
   "cell_type": "markdown",
   "id": "93233972",
   "metadata": {},
   "source": [
    "- What percent of employees earn less than 60,000?"
   ]
  },
  {
   "cell_type": "code",
   "execution_count": 185,
   "id": "94d8e366",
   "metadata": {},
   "outputs": [
    {
     "data": {
      "text/plain": [
       "0.24385742480214423"
      ]
     },
     "execution_count": 185,
     "metadata": {},
     "output_type": "execute_result"
    }
   ],
   "source": [
    "#Theoretical \n",
    "salary_distribution.cdf(60_000)"
   ]
  },
  {
   "cell_type": "code",
   "execution_count": 187,
   "id": "e75f353c",
   "metadata": {},
   "outputs": [
    {
     "data": {
      "text/plain": [
       "0.2705727041028802"
      ]
     },
     "execution_count": 187,
     "metadata": {},
     "output_type": "execute_result"
    }
   ],
   "source": [
    "#Actual\n",
    "(salaries.salary < 60_000).mean()"
   ]
  },
  {
   "cell_type": "markdown",
   "id": "9244b7ee",
   "metadata": {},
   "source": [
    "- What percent of employees earn more than 95,000?"
   ]
  },
  {
   "cell_type": "code",
   "execution_count": 188,
   "id": "71ba0e7f",
   "metadata": {},
   "outputs": [
    {
     "data": {
      "text/plain": [
       "0.09208819199804053"
      ]
     },
     "execution_count": 188,
     "metadata": {},
     "output_type": "execute_result"
    }
   ],
   "source": [
    "#Theoretical \n",
    "salary_distribution.sf(95_000)"
   ]
  },
  {
   "cell_type": "code",
   "execution_count": 189,
   "id": "f31efe76",
   "metadata": {},
   "outputs": [
    {
     "data": {
      "text/plain": [
       "0.1086272092752078"
      ]
     },
     "execution_count": 189,
     "metadata": {},
     "output_type": "execute_result"
    }
   ],
   "source": [
    "#Actual \n",
    "(salaries.salary > 95_000).mean()"
   ]
  },
  {
   "cell_type": "markdown",
   "id": "fa0d39dc",
   "metadata": {},
   "source": [
    "- What percent of employees earn between 65,000 and 80,000?"
   ]
  },
  {
   "cell_type": "code",
   "execution_count": 193,
   "id": "b5e841e8",
   "metadata": {},
   "outputs": [
    {
     "data": {
      "text/plain": [
       "0.3350605685446666"
      ]
     },
     "execution_count": 193,
     "metadata": {},
     "output_type": "execute_result"
    }
   ],
   "source": [
    "#Theoretical\n",
    "salary_distribution.cdf(80_000) - salary_distribution.cdf(65_000)"
   ]
  },
  {
   "cell_type": "code",
   "execution_count": 192,
   "id": "afe83a35",
   "metadata": {},
   "outputs": [
    {
     "data": {
      "text/plain": [
       "0.325107028035515"
      ]
     },
     "execution_count": 192,
     "metadata": {},
     "output_type": "execute_result"
    }
   ],
   "source": [
    "#Actual \n",
    "((salaries.salary > 65_000) & (salaries.salary < 80_000)).mean()"
   ]
  },
  {
   "cell_type": "markdown",
   "id": "42828001",
   "metadata": {},
   "source": [
    "- What do the top 5% of employees make?"
   ]
  },
  {
   "cell_type": "code",
   "execution_count": 195,
   "id": "fb1220a1",
   "metadata": {},
   "outputs": [
    {
     "data": {
      "text/plain": [
       "100484.64454102777"
      ]
     },
     "execution_count": 195,
     "metadata": {},
     "output_type": "execute_result"
    }
   ],
   "source": [
    "#Theoretical \n",
    "salary_distribution.isf(.05)"
   ]
  },
  {
   "cell_type": "code",
   "execution_count": 196,
   "id": "118ffc86",
   "metadata": {},
   "outputs": [
    {
     "data": {
      "text/plain": [
       "104225.84999999998"
      ]
     },
     "execution_count": 196,
     "metadata": {},
     "output_type": "execute_result"
    }
   ],
   "source": [
    "#Actual \n",
    "salaries.salary.quantile(.95)"
   ]
  }
 ],
 "metadata": {
  "kernelspec": {
   "display_name": "Python 3.9.7 64-bit ('base': conda)",
   "language": "python",
   "name": "python397jvsc74a57bd038cca0c38332a56087b24af0bc80247f4fced29cb4f7f437d91dc159adec9c4e"
  },
  "language_info": {
   "codemirror_mode": {
    "name": "ipython",
    "version": 3
   },
   "file_extension": ".py",
   "mimetype": "text/x-python",
   "name": "python",
   "nbconvert_exporter": "python",
   "pygments_lexer": "ipython3",
   "version": "3.9.7"
  }
 },
 "nbformat": 4,
 "nbformat_minor": 5
}
