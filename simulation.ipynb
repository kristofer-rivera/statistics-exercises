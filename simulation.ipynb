{
 "cells": [
  {
   "cell_type": "code",
   "execution_count": 1,
   "id": "ea5ab572",
   "metadata": {},
   "outputs": [],
   "source": [
    "import numpy as np\n",
    "import pandas as pd"
   ]
  },
  {
   "cell_type": "markdown",
   "id": "9fd5626a",
   "metadata": {},
   "source": [
    "1. How likely is it that you roll doubles when rolling two dice?"
   ]
  },
  {
   "cell_type": "code",
   "execution_count": 50,
   "id": "20cbc4a0",
   "metadata": {},
   "outputs": [
    {
     "data": {
      "text/plain": [
       "array([[5, 5],\n",
       "       [4, 6],\n",
       "       [1, 2],\n",
       "       ...,\n",
       "       [1, 5],\n",
       "       [4, 1],\n",
       "       [4, 2]])"
      ]
     },
     "execution_count": 50,
     "metadata": {},
     "output_type": "execute_result"
    }
   ],
   "source": [
    "#create our simulations\n",
    "n_trials = 2 \n",
    "n_simulations = 10_000\n",
    "\n",
    "dice_rolls = np.random.randint(1, 7, size=(n_simulations, n_trials))\n",
    "dice_rolls"
   ]
  },
  {
   "cell_type": "code",
   "execution_count": 51,
   "id": "4122b635",
   "metadata": {},
   "outputs": [
    {
     "data": {
      "text/plain": [
       "array([[5, 4, 1, ..., 1, 4, 4],\n",
       "       [5, 6, 2, ..., 5, 1, 2]])"
      ]
     },
     "execution_count": 51,
     "metadata": {},
     "output_type": "execute_result"
    }
   ],
   "source": [
    "#Restructuring simulations\n",
    "dice_rolls_transposed = dice_rolls.transpose()\n",
    "dice_rolls_transposed"
   ]
  },
  {
   "cell_type": "code",
   "execution_count": 53,
   "id": "5b011651",
   "metadata": {},
   "outputs": [
    {
     "data": {
      "text/plain": [
       "0.1652"
      ]
     },
     "execution_count": 53,
     "metadata": {},
     "output_type": "execute_result"
    }
   ],
   "source": [
    "#Probability\n",
    "(dice_rolls_transposed[0] == dice_rolls_transposed[1]).mean() "
   ]
  },
  {
   "cell_type": "markdown",
   "id": "e9c11c0d",
   "metadata": {},
   "source": [
    "2. If you flip 8 coins, what is the probability of getting exactly 3 heads? "
   ]
  },
  {
   "cell_type": "code",
   "execution_count": 82,
   "id": "f8b2b138",
   "metadata": {},
   "outputs": [
    {
     "data": {
      "text/plain": [
       "array([[1, 1, 0, ..., 1, 1, 1],\n",
       "       [1, 1, 1, ..., 0, 0, 0],\n",
       "       [1, 0, 1, ..., 0, 0, 1],\n",
       "       ...,\n",
       "       [0, 1, 1, ..., 1, 0, 1],\n",
       "       [0, 0, 0, ..., 0, 0, 0],\n",
       "       [0, 1, 0, ..., 0, 0, 0]])"
      ]
     },
     "execution_count": 82,
     "metadata": {},
     "output_type": "execute_result"
    }
   ],
   "source": [
    "n_simulations = n_rows = 10_000\n",
    "n_trials = n_columns =  8 \n",
    "\n",
    "simulations = np.random.choice([1,0], size = (n_rows,n_columns)) # create simulations\n",
    "simulations"
   ]
  },
  {
   "cell_type": "code",
   "execution_count": 83,
   "id": "1f92d9ee",
   "metadata": {},
   "outputs": [
    {
     "data": {
      "text/plain": [
       "array([6, 4, 5, ..., 5, 0, 2])"
      ]
     },
     "execution_count": 83,
     "metadata": {},
     "output_type": "execute_result"
    }
   ],
   "source": [
    "n_heads_per_simulation = simulations.sum(axis = 1)\n",
    "n_heads_per_simulation #Calculate outcomes of the simulations"
   ]
  },
  {
   "cell_type": "code",
   "execution_count": 84,
   "id": "9974fc0f",
   "metadata": {},
   "outputs": [
    {
     "data": {
      "text/plain": [
       "array([False, False, False, ..., False, False, False])"
      ]
     },
     "execution_count": 84,
     "metadata": {},
     "output_type": "execute_result"
    }
   ],
   "source": [
    "exactly_3_heads = n_heads_per_simulation == 3\n",
    "exactly_3_heads #Create booleans matching our condition"
   ]
  },
  {
   "cell_type": "code",
   "execution_count": 85,
   "id": "98539d48",
   "metadata": {},
   "outputs": [
    {
     "data": {
      "text/plain": [
       "0.215"
      ]
     },
     "execution_count": 85,
     "metadata": {},
     "output_type": "execute_result"
    }
   ],
   "source": [
    "exactly_3_heads.mean() #Probability"
   ]
  },
  {
   "cell_type": "markdown",
   "id": "cee4cb34",
   "metadata": {},
   "source": [
    "What is the probability of getting more than 3 heads?"
   ]
  },
  {
   "cell_type": "code",
   "execution_count": 86,
   "id": "b9e4353a",
   "metadata": {},
   "outputs": [
    {
     "data": {
      "text/plain": [
       "array([ True,  True,  True, ...,  True, False, False])"
      ]
     },
     "execution_count": 86,
     "metadata": {},
     "output_type": "execute_result"
    }
   ],
   "source": [
    "more_than_3 = n_heads_per_simulation > 3\n",
    "more_than_3 #Create booleans matching our condition"
   ]
  },
  {
   "cell_type": "code",
   "execution_count": 87,
   "id": "232cb5ef",
   "metadata": {},
   "outputs": [
    {
     "data": {
      "text/plain": [
       "0.6406"
      ]
     },
     "execution_count": 87,
     "metadata": {},
     "output_type": "execute_result"
    }
   ],
   "source": [
    "more_than_3.mean() #Probability"
   ]
  },
  {
   "cell_type": "markdown",
   "id": "3d63ac8d",
   "metadata": {},
   "source": [
    "3. There are approximitely 3 web development cohorts for every 1 data science cohort at Codeup. Assuming that Codeup randomly selects an alumni to put on a billboard, what are the odds that the two billboards I drive past both have data science students on them?"
   ]
  },
  {
   "cell_type": "code",
   "execution_count": 46,
   "id": "844138aa",
   "metadata": {},
   "outputs": [],
   "source": [
    "outcomes = [1, 0] #1 = web development and 0 = data science \n",
    "\n",
    "n_simulatios = 10_000\n",
    "billboards = 2 \n",
    "\n",
    "web_dev_prob = 0.75\n",
    "data_science_prob = 0.25\n",
    "\n",
    "billboard1 = np.random.choice(outcomes, size =(n_simulations, billboards), p=[web_dev_prob, data_science_prob])\n",
    "billboard2 = np.random.choice(outcomes, size =(n_simulations, billboards), p=[web_dev_prob, data_science_prob])\n",
    "#create our simulations               "
   ]
  },
  {
   "cell_type": "code",
   "execution_count": 47,
   "id": "886c710e",
   "metadata": {},
   "outputs": [
    {
     "data": {
      "text/plain": [
       "array([[False, False],\n",
       "       [False, False],\n",
       "       [False, False],\n",
       "       ...,\n",
       "       [False, False],\n",
       "       [False, False],\n",
       "       [False, False]])"
      ]
     },
     "execution_count": 47,
     "metadata": {},
     "output_type": "execute_result"
    }
   ],
   "source": [
    "both_boards_data = (billboard1 == [0,0]) & (billboard2 == [0,0])\n",
    "both_boards_data #Create boolean matching our condition"
   ]
  },
  {
   "cell_type": "code",
   "execution_count": 48,
   "id": "d0c527da",
   "metadata": {},
   "outputs": [
    {
     "data": {
      "text/plain": [
       "0.06485"
      ]
     },
     "execution_count": 48,
     "metadata": {},
     "output_type": "execute_result"
    }
   ],
   "source": [
    "both_boards_data.mean() #Probability"
   ]
  },
  {
   "cell_type": "markdown",
   "id": "91537949",
   "metadata": {},
   "source": [
    "4. Codeup students buy, on average, 3 poptart packages with a standard deviation of 1.5 a day from the snack vending machine. If on monday the machine is restocked with 17 poptart packages, how likely is it that I will be able to buy some poptarts on Friday afternoon? (Remember, if you have mean and standard deviation, use the np.random.normal)"
   ]
  },
  {
   "cell_type": "code",
   "execution_count": 103,
   "id": "b66996f0",
   "metadata": {},
   "outputs": [
    {
     "data": {
      "text/plain": [
       "array([[1., 6., 0., 6.],\n",
       "       [4., 2., 6., 3.],\n",
       "       [0., 4., 2., 2.],\n",
       "       ...,\n",
       "       [4., 4., 4., 4.],\n",
       "       [1., 3., 3., 2.],\n",
       "       [5., 4., 4., 4.]])"
      ]
     },
     "execution_count": 103,
     "metadata": {},
     "output_type": "execute_result"
    }
   ],
   "source": [
    "n_simulations = n_rows = 10_000\n",
    "n_days = n_columns = 4\n",
    "\n",
    "simulation = np.random.normal(loc = 3, scale = 1.5, size = (n_rows, n_columns)).round()\n",
    "simulation = np.where(simulation < 0, 0, simulation)\n",
    "simulation #creating the simulation in pop tarts eaten per day"
   ]
  },
  {
   "cell_type": "code",
   "execution_count": 104,
   "id": "cf1fc0af",
   "metadata": {},
   "outputs": [
    {
     "data": {
      "text/plain": [
       "array([13., 15.,  8., ..., 16.,  9., 17.])"
      ]
     },
     "execution_count": 104,
     "metadata": {},
     "output_type": "execute_result"
    }
   ],
   "source": [
    "sum_of_poptarts = simulation.sum(axis = 1)\n",
    "sum_of_poptarts #summarizing simulation for poptarts eaten in a week"
   ]
  },
  {
   "cell_type": "code",
   "execution_count": 105,
   "id": "9654a6c1",
   "metadata": {},
   "outputs": [
    {
     "data": {
      "text/plain": [
       "array([ True,  True,  True, ...,  True,  True, False])"
      ]
     },
     "execution_count": 105,
     "metadata": {},
     "output_type": "execute_result"
    }
   ],
   "source": [
    "poptarts_available_friday = sum_of_poptarts < 17\n",
    "poptarts_available_friday #create booleans for our condition"
   ]
  },
  {
   "cell_type": "code",
   "execution_count": 107,
   "id": "79a0123f",
   "metadata": {},
   "outputs": [
    {
     "data": {
      "text/plain": [
       "0.9318"
      ]
     },
     "execution_count": 107,
     "metadata": {},
     "output_type": "execute_result"
    }
   ],
   "source": [
    "poptarts_available_friday.mean() #probability"
   ]
  },
  {
   "cell_type": "markdown",
   "id": "8a82ba86",
   "metadata": {},
   "source": [
    "5. Compare Heights\n",
    "\n",
    "- Men have an average height of 178 cm and standard deviation of 8cm.\n",
    "- Women have a mean of 170, sd = 6cm.\n",
    "- Since you have means and standard deviations, you can use np.random.normal to generate observations.\n",
    "- If a man and woman are chosen at random, P(woman taller than man)?"
   ]
  },
  {
   "cell_type": "code",
   "execution_count": 33,
   "id": "26f837a9",
   "metadata": {},
   "outputs": [],
   "source": [
    "# Generating our simulations\n",
    "n_simulations = 10_000\n",
    "male_height = np.random.normal(loc = 178, scale = 8, size = n_simulations)\n",
    "female_height = np.random.normal(loc = 170, scale = 6, size = n_simulations)"
   ]
  },
  {
   "cell_type": "code",
   "execution_count": 108,
   "id": "e9aaf66b",
   "metadata": {},
   "outputs": [
    {
     "data": {
      "text/plain": [
       "0.2236"
      ]
     },
     "execution_count": 108,
     "metadata": {},
     "output_type": "execute_result"
    }
   ],
   "source": [
    "#generating booleans for our condition\n",
    "woman_taller_than_man = female_height > male_height \n",
    "#probability\n",
    "woman_taller_than_man.mean()"
   ]
  },
  {
   "cell_type": "markdown",
   "id": "8a168305",
   "metadata": {},
   "source": [
    "6. When installing anaconda on a student's computer, there's a 1 in 250 chance that the download is corrupted and the installation fails. What are the odds that after having 50 students download anaconda, no one has an installation issue? "
   ]
  },
  {
   "cell_type": "code",
   "execution_count": 65,
   "id": "1f4f89be",
   "metadata": {},
   "outputs": [
    {
     "data": {
      "text/plain": [
       "array([[0, 0, 0, ..., 0, 0, 0],\n",
       "       [0, 0, 0, ..., 0, 0, 0],\n",
       "       [0, 0, 0, ..., 0, 0, 0],\n",
       "       ...,\n",
       "       [0, 0, 0, ..., 0, 0, 0],\n",
       "       [0, 0, 0, ..., 0, 0, 0],\n",
       "       [0, 0, 0, ..., 0, 0, 0]])"
      ]
     },
     "execution_count": 65,
     "metadata": {},
     "output_type": "execute_result"
    }
   ],
   "source": [
    "# Creating simulation\n",
    "\n",
    "outcomes = [1, 0] #1 is corrupted, 0 is not corrupeted\n",
    "n_simulations = n_rows = 10_000\n",
    "n_students = n_columns = 50 \n",
    "\n",
    "installation_fails = np.random.choice(outcomes, size = (n_rows, n_columns), p=[1/250, 249/250])\n",
    "installation_fails"
   ]
  },
  {
   "cell_type": "code",
   "execution_count": 66,
   "id": "7c8dd901",
   "metadata": {},
   "outputs": [
    {
     "data": {
      "text/plain": [
       "array([ True,  True,  True, ...,  True,  True,  True])"
      ]
     },
     "execution_count": 66,
     "metadata": {},
     "output_type": "execute_result"
    }
   ],
   "source": [
    "#Summarizing simulations, creating booleans\n",
    "total_without_failures = installation_fails.sum(axis=1) < 1\n",
    "total_without_failures"
   ]
  },
  {
   "cell_type": "code",
   "execution_count": 67,
   "id": "0c3e36d3",
   "metadata": {},
   "outputs": [
    {
     "data": {
      "text/plain": [
       "0.8182"
      ]
     },
     "execution_count": 67,
     "metadata": {},
     "output_type": "execute_result"
    }
   ],
   "source": [
    "#Calculating probability\n",
    "total_without_failures.mean()"
   ]
  },
  {
   "cell_type": "markdown",
   "id": "6073bf21",
   "metadata": {},
   "source": [
    "- 100 students?"
   ]
  },
  {
   "cell_type": "code",
   "execution_count": 68,
   "id": "8aab71b4",
   "metadata": {},
   "outputs": [],
   "source": [
    "#adjusting values and repeating\n",
    "n_students = n_columns = 100\n",
    "installation_fails = np.random.choice(outcomes, size = (n_rows, n_columns), p=[1/250, 249/250])\n",
    "total_without_failures = installation_fails.sum(axis=1) < 1"
   ]
  },
  {
   "cell_type": "code",
   "execution_count": 69,
   "id": "b3221d2a",
   "metadata": {},
   "outputs": [
    {
     "data": {
      "text/plain": [
       "0.6648"
      ]
     },
     "execution_count": 69,
     "metadata": {},
     "output_type": "execute_result"
    }
   ],
   "source": [
    "# new probability\n",
    "total_without_failures.mean()"
   ]
  },
  {
   "cell_type": "markdown",
   "id": "d7b0df08",
   "metadata": {},
   "source": [
    "- What is the probability that we observe an installation issue within the first 150 students that download anaconda?"
   ]
  },
  {
   "cell_type": "code",
   "execution_count": 70,
   "id": "7c77eadd",
   "metadata": {},
   "outputs": [],
   "source": [
    "#adjusting values and repeating\n",
    "n_students = n_columns = 150\n",
    "installation_fails = np.random.choice(outcomes, size = (n_rows, n_columns), p=[1/250, 249/250])\n",
    "total_with_failures = installation_fails.sum(axis=1) >= 1"
   ]
  },
  {
   "cell_type": "code",
   "execution_count": 71,
   "id": "0d1d95d9",
   "metadata": {},
   "outputs": [
    {
     "data": {
      "text/plain": [
       "0.4571"
      ]
     },
     "execution_count": 71,
     "metadata": {},
     "output_type": "execute_result"
    }
   ],
   "source": [
    "# new probability\n",
    "total_with_failures.mean()"
   ]
  },
  {
   "cell_type": "markdown",
   "id": "daa6024b",
   "metadata": {},
   "source": [
    "\n",
    "- How likely is it that 450 students all download anaconda without an issue?"
   ]
  },
  {
   "cell_type": "code",
   "execution_count": 72,
   "id": "bfc278bc",
   "metadata": {},
   "outputs": [],
   "source": [
    "#adjusting values and repeating\n",
    "n_students = n_columns = 450\n",
    "installation_fails = np.random.choice(outcomes, size = (n_rows, n_columns), p=[1/250, 249/250])\n",
    "total_without_failures = installation_fails.sum(axis=1) < 1"
   ]
  },
  {
   "cell_type": "code",
   "execution_count": 73,
   "id": "a7f4ebb3",
   "metadata": {},
   "outputs": [
    {
     "data": {
      "text/plain": [
       "0.1642"
      ]
     },
     "execution_count": 73,
     "metadata": {},
     "output_type": "execute_result"
    }
   ],
   "source": [
    "# new probability\n",
    "total_without_failures.mean()"
   ]
  },
  {
   "cell_type": "markdown",
   "id": "ef33215e",
   "metadata": {},
   "source": [
    "7. There's a 70% chance on any given day that there will be at least one food truck at Travis Park. However, you haven't seen a food truck there in 3 days. How unlikely is this?"
   ]
  },
  {
   "cell_type": "code",
   "execution_count": 74,
   "id": "109be92d",
   "metadata": {},
   "outputs": [
    {
     "data": {
      "text/plain": [
       "array([[1, 1, 1],\n",
       "       [1, 1, 1],\n",
       "       [0, 0, 0],\n",
       "       ...,\n",
       "       [1, 0, 0],\n",
       "       [1, 1, 0],\n",
       "       [0, 0, 1]])"
      ]
     },
     "execution_count": 74,
     "metadata": {},
     "output_type": "execute_result"
    }
   ],
   "source": [
    "# Generating simulation\n",
    "outcomes = [1, 0] # 1 = foodtruck shows, 0 = foodtruck doesn't show\n",
    "n_simulations = n_rows = 10_000\n",
    "n_days = n_columns = 3\n",
    "probabilities = (.7, .3)\n",
    "\n",
    "truck_wont_show = np.random.choice(outcomes, size = (n_rows, n_columns), p= probabilities)\n",
    "truck_wont_show"
   ]
  },
  {
   "cell_type": "code",
   "execution_count": 75,
   "id": "4875c8e2",
   "metadata": {},
   "outputs": [
    {
     "data": {
      "text/plain": [
       "array([3, 3, 0, ..., 1, 2, 1])"
      ]
     },
     "execution_count": 75,
     "metadata": {},
     "output_type": "execute_result"
    }
   ],
   "source": [
    "# Summarizing simulation\n",
    "no_truck_three_days = truck_wont_show.sum(axis = 1)\n",
    "no_truck_three_days"
   ]
  },
  {
   "cell_type": "code",
   "execution_count": 76,
   "id": "af0fac0c",
   "metadata": {},
   "outputs": [
    {
     "data": {
      "text/plain": [
       "array([False, False,  True, ..., False, False, False])"
      ]
     },
     "execution_count": 76,
     "metadata": {},
     "output_type": "execute_result"
    }
   ],
   "source": [
    "# creating booleans to match condition\n",
    "probability_of_no_show = no_truck_three_days == 0\n",
    "probability_of_no_show"
   ]
  },
  {
   "cell_type": "code",
   "execution_count": 77,
   "id": "7c7f0066",
   "metadata": {},
   "outputs": [
    {
     "data": {
      "text/plain": [
       "0.0277"
      ]
     },
     "execution_count": 77,
     "metadata": {},
     "output_type": "execute_result"
    }
   ],
   "source": [
    "# Calculating probability of how unlikely\n",
    "probability_of_no_show.mean()"
   ]
  },
  {
   "cell_type": "markdown",
   "id": "245987a0",
   "metadata": {},
   "source": [
    "- How likely is it that a food truck will show up sometime this week?"
   ]
  },
  {
   "cell_type": "code",
   "execution_count": 127,
   "id": "a6339f4a",
   "metadata": {},
   "outputs": [],
   "source": [
    "# Adjusting values to answer new question\n",
    "n_days = n_columns = 5 \n",
    "truck_will_show = np.random.choice(outcomes, size = (n_rows, n_columns), p= probabilities)\n",
    "truck_shows_this_week = truck_will_show.sum(axis = 1) > 0 "
   ]
  },
  {
   "cell_type": "code",
   "execution_count": 128,
   "id": "c44b2836",
   "metadata": {},
   "outputs": [
    {
     "data": {
      "text/plain": [
       "0.9981"
      ]
     },
     "execution_count": 128,
     "metadata": {},
     "output_type": "execute_result"
    }
   ],
   "source": [
    "#new probabilty \n",
    "truck_shows_this_week.mean()"
   ]
  },
  {
   "cell_type": "markdown",
   "id": "5e2450b6",
   "metadata": {},
   "source": [
    "8. If 23 people are in the same room, what are the odds that two of them share a birthday? What if it's 20 people? 40?\n"
   ]
  },
  {
   "cell_type": "code",
   "execution_count": 123,
   "id": "3832a70a",
   "metadata": {},
   "outputs": [],
   "source": [
    "# creatiing function to calculate odds\n",
    "\n",
    "def odds_two_share_birthday(n_people):\n",
    "    n_simulations = n_rows = 10_000\n",
    "    days_of_year = list(range(1, 366))\n",
    "    birthday = np.random.choice(days_of_year, size = (n_rows, n_people)) #creating simulation\n",
    "    birthdays = pd.DataFrame(birthday) #converting to a dataframe\n",
    "    return (birthdays.nunique(axis=1) < n_people).mean() #calculation to match our condition \n",
    "\n"
   ]
  },
  {
   "cell_type": "code",
   "execution_count": 124,
   "id": "6ff12e34",
   "metadata": {},
   "outputs": [
    {
     "data": {
      "text/plain": [
       "0.5108"
      ]
     },
     "execution_count": 124,
     "metadata": {},
     "output_type": "execute_result"
    }
   ],
   "source": [
    "odds_two_share_birthday(23)"
   ]
  },
  {
   "cell_type": "code",
   "execution_count": 125,
   "id": "2baebb8e",
   "metadata": {},
   "outputs": [
    {
     "data": {
      "text/plain": [
       "0.4121"
      ]
     },
     "execution_count": 125,
     "metadata": {},
     "output_type": "execute_result"
    }
   ],
   "source": [
    "odds_two_share_birthday(20)"
   ]
  },
  {
   "cell_type": "code",
   "execution_count": 126,
   "id": "7856d97d",
   "metadata": {},
   "outputs": [
    {
     "data": {
      "text/plain": [
       "0.8912"
      ]
     },
     "execution_count": 126,
     "metadata": {},
     "output_type": "execute_result"
    }
   ],
   "source": [
    "odds_two_share_birthday(40)"
   ]
  },
  {
   "cell_type": "markdown",
   "id": "880a5c9c",
   "metadata": {},
   "source": [
    "8. If 23 people are in the same room, what are the odds that two of them share a birthday? What if it's 20 people? 40?\n",
    "#class solution"
   ]
  },
  {
   "cell_type": "code",
   "execution_count": 132,
   "id": "67293613",
   "metadata": {},
   "outputs": [
    {
     "data": {
      "text/plain": [
       "0.5063"
      ]
     },
     "execution_count": 132,
     "metadata": {},
     "output_type": "execute_result"
    }
   ],
   "source": [
    "simulations = np.random.randint(1, 366, size = (10_000, 23))\n",
    "simulations = pd.DataFrame(simulations)\n",
    "(simulations.apply(lambda birthdays: birthdays.nunique(), axis=1) < 23).mean() #23 people"
   ]
  },
  {
   "cell_type": "code",
   "execution_count": 133,
   "id": "9f77b7d3",
   "metadata": {},
   "outputs": [
    {
     "data": {
      "text/plain": [
       "0.4064"
      ]
     },
     "execution_count": 133,
     "metadata": {},
     "output_type": "execute_result"
    }
   ],
   "source": [
    "simulations = np.random.randint(1, 366, size = (10_000, 20))\n",
    "simulations = pd.DataFrame(simulations)\n",
    "(simulations.apply(lambda birthdays: birthdays.nunique(), axis=1) < 20).mean() #20 people"
   ]
  },
  {
   "cell_type": "code",
   "execution_count": 134,
   "id": "a54cce43",
   "metadata": {},
   "outputs": [
    {
     "data": {
      "text/plain": [
       "0.894"
      ]
     },
     "execution_count": 134,
     "metadata": {},
     "output_type": "execute_result"
    }
   ],
   "source": [
    "simulations = np.random.randint(1, 366, size = (10_000, 40))\n",
    "simulations = pd.DataFrame(simulations)\n",
    "(simulations.apply(lambda birthdays: birthdays.nunique(), axis=1) < 40).mean() #40 people"
   ]
  }
 ],
 "metadata": {
  "kernelspec": {
   "display_name": "Python 3.9.7 64-bit ('base': conda)",
   "language": "python",
   "name": "python397jvsc74a57bd038cca0c38332a56087b24af0bc80247f4fced29cb4f7f437d91dc159adec9c4e"
  },
  "language_info": {
   "codemirror_mode": {
    "name": "ipython",
    "version": 3
   },
   "file_extension": ".py",
   "mimetype": "text/x-python",
   "name": "python",
   "nbconvert_exporter": "python",
   "pygments_lexer": "ipython3",
   "version": "3.9.7"
  }
 },
 "nbformat": 4,
 "nbformat_minor": 5
}
