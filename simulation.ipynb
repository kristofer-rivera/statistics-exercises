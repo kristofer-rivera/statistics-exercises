{
 "cells": [
  {
   "cell_type": "code",
   "execution_count": 2,
   "id": "ea5ab572",
   "metadata": {},
   "outputs": [],
   "source": [
    "import numpy as np\n",
    "import pandas as pd"
   ]
  },
  {
   "cell_type": "markdown",
   "id": "9fd5626a",
   "metadata": {},
   "source": [
    "1. How likely is it that roll doubles when rolling two dice?\n"
   ]
  },
  {
   "cell_type": "code",
   "execution_count": 10,
   "id": "20cbc4a0",
   "metadata": {},
   "outputs": [
    {
     "data": {
      "text/plain": [
       "array([[3, 2],\n",
       "       [3, 3],\n",
       "       [6, 5],\n",
       "       [4, 2],\n",
       "       [5, 5]])"
      ]
     },
     "execution_count": 10,
     "metadata": {},
     "output_type": "execute_result"
    }
   ],
   "source": [
    "n_trials = 2 \n",
    "n_simulations = 10_000\n",
    "\n",
    "dice_rolls = np.random.randint(1, 7, size=(n_simulations, n_trials))\n",
    "dice_rolls[0:5]"
   ]
  },
  {
   "cell_type": "code",
   "execution_count": 11,
   "id": "4122b635",
   "metadata": {},
   "outputs": [
    {
     "data": {
      "text/plain": [
       "array([[3, 3, 6, ..., 3, 5, 2],\n",
       "       [2, 3, 5, ..., 6, 3, 6]])"
      ]
     },
     "execution_count": 11,
     "metadata": {},
     "output_type": "execute_result"
    }
   ],
   "source": [
    "dice_rolls_transposed = dice_rolls.transpose()\n",
    "dice_rolls_transposed[0:5]"
   ]
  },
  {
   "cell_type": "code",
   "execution_count": 12,
   "id": "5b011651",
   "metadata": {},
   "outputs": [
    {
     "data": {
      "text/plain": [
       "0.1636"
      ]
     },
     "execution_count": 12,
     "metadata": {},
     "output_type": "execute_result"
    }
   ],
   "source": [
    "(dice_rolls_transposed[0] == dice_rolls_transposed[1]).mean()"
   ]
  },
  {
   "cell_type": "markdown",
   "id": "e9c11c0d",
   "metadata": {},
   "source": [
    "2. If you flip 8 coins, what is the probability of getting exactly 3 heads? What is the probability of getting more than 3 heads?"
   ]
  },
  {
   "cell_type": "code",
   "execution_count": null,
   "id": "3af8f82c",
   "metadata": {},
   "outputs": [],
   "source": []
  }
 ],
 "metadata": {
  "kernelspec": {
   "display_name": "Python 3.9.7 64-bit ('base': conda)",
   "language": "python",
   "name": "python397jvsc74a57bd038cca0c38332a56087b24af0bc80247f4fced29cb4f7f437d91dc159adec9c4e"
  },
  "language_info": {
   "codemirror_mode": {
    "name": "ipython",
    "version": 3
   },
   "file_extension": ".py",
   "mimetype": "text/x-python",
   "name": "python",
   "nbconvert_exporter": "python",
   "pygments_lexer": "ipython3",
   "version": "3.9.7"
  }
 },
 "nbformat": 4,
 "nbformat_minor": 5
}
