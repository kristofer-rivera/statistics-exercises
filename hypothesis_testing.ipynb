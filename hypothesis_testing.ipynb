{
 "cells": [
  {
   "cell_type": "markdown",
   "id": "493a311c-8ecd-428b-8aa8-fa2faa13f73b",
   "metadata": {},
   "source": [
    "## Overview Exercises"
   ]
  },
  {
   "cell_type": "markdown",
   "id": "27767182-a16f-447a-850c-bed8d62960d3",
   "metadata": {},
   "source": [
    "*For each of the following questions, formulate a null and alternative hypothesis (be as specific as you can be), then give an example of what a true positive, true negative, type I and type II errors would look like. Note that some of the questions are intentionally phrased in a vague way. It is your job to reword these as more precise questions that could be tested.*"
   ]
  },
  {
   "cell_type": "markdown",
   "id": "767e6869",
   "metadata": {},
   "source": [
    "## Has the network latency gone up since we switched internet service providers?"
   ]
  },
  {
   "cell_type": "markdown",
   "id": "fa5ea081-ea8d-4ef7-bce3-ee1ba8dd8a41",
   "metadata": {},
   "source": [
    "**H0:** Network latency has remained the same since we switched internet service providers.\n",
    "\n",
    "**Ha:** Network latency has gone up since we switched internet service providers. "
   ]
  },
  {
   "cell_type": "markdown",
   "id": "8c91be36",
   "metadata": {},
   "source": [
    "True Positive: We conclude that latency has gone up since switching providers and that is actually the case.\n",
    "\n",
    "True Negative: We conclude that latency has remained the same since the switch and that is actually the case. \n",
    "\n",
    "Type I Error: We reject the our null hypothesis that latency has remaine the same when latency has indeed remained the same. \n",
    "\n",
    "Type II Error: We don't reject our null hypothesis and conclude that there is no latency difference when latency really did go up or there was a change. \n"
   ]
  },
  {
   "cell_type": "markdown",
   "id": "6064eae3",
   "metadata": {},
   "source": [
    "## Is the website redesign any good?"
   ]
  },
  {
   "cell_type": "markdown",
   "id": "d5cb49a4",
   "metadata": {},
   "source": [
    "**H0:** The new website design doesn't attract any more traffic than the old one.\n",
    "\n",
    "**Ha:** The new website design increases traffic. "
   ]
  },
  {
   "cell_type": "markdown",
   "id": "2fdb9d96",
   "metadata": {},
   "source": [
    "True Positive: We conclude that there is an increase in traffic and that is actually the case.\n",
    "\n",
    "True Negative: We conclude that website traffic has remained the same and that is actually the case. \n",
    "\n",
    "Type I Error: We reject our null hypothesis that the redesign doesn't attract more traffic than the old one when in fact there is no change in website traffic. \n",
    "\n",
    "Type II Error: We don't reject our null hypothesis, and conclude that there is no traffic change when in fact there was a change. "
   ]
  },
  {
   "cell_type": "markdown",
   "id": "1ce35960",
   "metadata": {},
   "source": [
    "## Is our television ad driving more sales?"
   ]
  },
  {
   "cell_type": "markdown",
   "id": "84eec25e",
   "metadata": {},
   "source": [
    "**H0:** The television add didn't increase sales. \n",
    "\n",
    "**Ha:** The television add caused an increase in sales. "
   ]
  },
  {
   "cell_type": "markdown",
   "id": "4a8ee498",
   "metadata": {},
   "source": [
    "True Positive: We conclude that the ad caused an increase in sales and that is actually the case. \n",
    "\n",
    "True Negative: We conclude that the television ad did not increase sales and that is actually the case.\n",
    "\n",
    "Type I Error: We reject our null hypothesis that the ad is didn't increase sales when it did not increase sales.\n",
    "\n",
    "Type II Error: We don't reject the null hypothesis when the ad did causse a change in sales. "
   ]
  },
  {
   "cell_type": "markdown",
   "id": "791e63f2-f623-40e6-9320-cb6c3df6c5bf",
   "metadata": {},
   "source": [
    "## T-Test Exercises"
   ]
  },
  {
   "cell_type": "markdown",
   "id": "c6908fba-4a25-4546-872f-db9b0f7f5b80",
   "metadata": {},
   "source": [
    "- *Ace Realty wants to determine whether the average time it takes to sell homes is different for its two offices. A sample of 40 sales from office #1 revealed a mean of 90 days and a standard deviation of 15 days. A sample of 50 sales from office #2 revealed a mean of 100 days and a standard deviation of 20 days. Use a .05 level of significance.*\n",
    "\n"
   ]
  },
  {
   "cell_type": "code",
   "execution_count": 53,
   "id": "12f23cb9-97dc-4c30-9583-06426314341b",
   "metadata": {},
   "outputs": [],
   "source": [
    "import math\n",
    "from scipy import stats\n",
    "import matplotlib.pyplot as plt \n",
    "import numpy as np\n",
    "import pandas as pd\n",
    "from pydataset import data\n",
    "import statistics "
   ]
  },
  {
   "cell_type": "markdown",
   "id": "39354c60-1acd-4f47-a357-4fd494c13bf4",
   "metadata": {},
   "source": [
    "**My Hypotheses**\n",
    "\n",
    "- $H0$: There is no difference in average time to sell between the two offices.\n",
    "\n",
    "- $Ha$: There is a difference in average time to sell between the two offices. "
   ]
  },
  {
   "cell_type": "code",
   "execution_count": 77,
   "id": "d1d05224-4892-4ef3-8f0d-bc6503d43f47",
   "metadata": {},
   "outputs": [
    {
     "data": {
      "text/plain": [
       "<AxesSubplot:>"
      ]
     },
     "execution_count": 77,
     "metadata": {},
     "output_type": "execute_result"
    },
    {
     "data": {
      "image/png": "[encoded data removed]",
      "text/plain": [
       "<Figure size 432x288 with 1 Axes>"
      ]
     },
     "metadata": {
      "needs_background": "light"
     },
     "output_type": "display_data"
    }
   ],
   "source": [
    "#Office 1 Normal Distribution\n",
    "office_1 = pd.Series(stats.norm(90, 15).rvs(10_000))\n",
    "office_1.hist()"
   ]
  },
  {
   "cell_type": "code",
   "execution_count": 78,
   "id": "c10151bb-772a-4ece-8ce4-7e0c619cec16",
   "metadata": {},
   "outputs": [
    {
     "data": {
      "text/plain": [
       "<AxesSubplot:>"
      ]
     },
     "execution_count": 78,
     "metadata": {},
     "output_type": "execute_result"
    },
    {
     "data": {
      "image/png": "[encoded data removed]",
      "text/plain": [
       "<Figure size 432x288 with 1 Axes>"
      ]
     },
     "metadata": {
      "needs_background": "light"
     },
     "output_type": "display_data"
    }
   ],
   "source": [
    "#Office 2 Normal Distribution\n",
    "office_2 = pd.Series(stats.norm(100, 20).rvs(10_000))\n",
    "office_2.hist()"
   ]
  },
  {
   "cell_type": "code",
   "execution_count": 15,
   "id": "d3c496e8-26df-4113-984f-1f49be0cb34f",
   "metadata": {},
   "outputs": [],
   "source": [
    "#Both Distributions\n",
    "x = np.arange(50, 150)\n",
    "\n",
    "y1 = stats.norm(90, 15).pdf(x)\n",
    "y2 = stats.norm(100, 20).pdf(x)"
   ]
  },
  {
   "cell_type": "code",
   "execution_count": 79,
   "id": "82546e2e-49d8-40af-8c67-27cfe997a27c",
   "metadata": {},
   "outputs": [
    {
     "data": {
      "image/png": "[encoded data removed]",
      "text/plain": [
       "<Figure size 432x288 with 1 Axes>"
      ]
     },
     "metadata": {
      "needs_background": "light"
     },
     "output_type": "display_data"
    }
   ],
   "source": [
    "plt.plot(x, y1, label = 'Office 1')\n",
    "plt.plot(x, y2, label = 'Office 2')\n",
    "\n",
    "plt.axvline(90, ls = ':')\n",
    "plt.axvline(100, ls = ':')\n",
    "\n",
    "plt.legend()\n",
    "plt.show()"
   ]
  },
  {
   "cell_type": "code",
   "execution_count": 80,
   "id": "00f7d6f1-c50f-4270-8de6-35c38ad45a57",
   "metadata": {},
   "outputs": [
    {
     "data": {
      "text/plain": [
       "(-2.7091418459143854, 0.00811206270346016)"
      ]
     },
     "execution_count": 80,
     "metadata": {},
     "output_type": "execute_result"
    }
   ],
   "source": [
    "#T-Test using Scipy\n",
    "a= .05\n",
    "\n",
    "t, p = stats.ttest_ind_from_stats(90,15,40,100,20,50, equal_var=False)\n",
    "t, p\n"
   ]
  },
  {
   "cell_type": "code",
   "execution_count": 87,
   "id": "eca761ed-2c4a-4d73-a5c4-7ca41da50ccb",
   "metadata": {},
   "outputs": [
    {
     "name": "stdout",
     "output_type": "stream",
     "text": [
      "We fail to reject H0.\n"
     ]
    }
   ],
   "source": [
    "# Becuase it is a 2-tailed test\n",
    "if p < a: \n",
    "    print('We reject H0.')\n",
    "else: \n",
    "    print('We fail to reject H0.')"
   ]
  },
  {
   "cell_type": "markdown",
   "id": "9c738c97-c595-4393-b1c4-f561af685040",
   "metadata": {},
   "source": [
    "- **Load the mpg dataset and use it to answer the following questions:**"
   ]
  },
  {
   "cell_type": "markdown",
   "id": "6e9d81e4-343b-4236-aabb-4f58144bc180",
   "metadata": {},
   "source": [
    "*Is there a difference in fuel-efficiency in cars from 2008 vs 1999?*"
   ]
  },
  {
   "cell_type": "markdown",
   "id": "89e71406-d592-4379-bdff-0f1ca180e477",
   "metadata": {},
   "source": [
    "**My Hypotheses**\n",
    "\n",
    "- $H0$: There is no difference in fuel-efficiency in cars from 2008 vs 1999. \n",
    "\n",
    "- $Ha$: There is a difference in fuel-efficiency in cars from 2008 vs 1999. "
   ]
  },
  {
   "cell_type": "code",
   "execution_count": 62,
   "id": "57ebb06e-8350-4f52-beec-3c2f1a2bd97a",
   "metadata": {},
   "outputs": [
    {
     "data": {
      "text/html": [
       "<div>\n",
       "<style scoped>\n",
       "    .dataframe tbody tr th:only-of-type {\n",
       "        vertical-align: middle;\n",
       "    }\n",
       "\n",
       "    .dataframe tbody tr th {\n",
       "        vertical-align: top;\n",
       "    }\n",
       "\n",
       "    .dataframe thead th {\n",
       "        text-align: right;\n",
       "    }\n",
       "</style>\n",
       "<table border=\"1\" class=\"dataframe\">\n",
       "  <thead>\n",
       "    <tr style=\"text-align: right;\">\n",
       "      <th></th>\n",
       "      <th>manufacturer</th>\n",
       "      <th>model</th>\n",
       "      <th>displ</th>\n",
       "      <th>year</th>\n",
       "      <th>cyl</th>\n",
       "      <th>trans</th>\n",
       "      <th>drv</th>\n",
       "      <th>cty</th>\n",
       "      <th>hwy</th>\n",
       "      <th>fl</th>\n",
       "      <th>class</th>\n",
       "    </tr>\n",
       "  </thead>\n",
       "  <tbody>\n",
       "    <tr>\n",
       "      <th>1</th>\n",
       "      <td>audi</td>\n",
       "      <td>a4</td>\n",
       "      <td>1.8</td>\n",
       "      <td>1999</td>\n",
       "      <td>4</td>\n",
       "      <td>auto(l5)</td>\n",
       "      <td>f</td>\n",
       "      <td>18</td>\n",
       "      <td>29</td>\n",
       "      <td>p</td>\n",
       "      <td>compact</td>\n",
       "    </tr>\n",
       "    <tr>\n",
       "      <th>2</th>\n",
       "      <td>audi</td>\n",
       "      <td>a4</td>\n",
       "      <td>1.8</td>\n",
       "      <td>1999</td>\n",
       "      <td>4</td>\n",
       "      <td>manual(m5)</td>\n",
       "      <td>f</td>\n",
       "      <td>21</td>\n",
       "      <td>29</td>\n",
       "      <td>p</td>\n",
       "      <td>compact</td>\n",
       "    </tr>\n",
       "    <tr>\n",
       "      <th>3</th>\n",
       "      <td>audi</td>\n",
       "      <td>a4</td>\n",
       "      <td>2.0</td>\n",
       "      <td>2008</td>\n",
       "      <td>4</td>\n",
       "      <td>manual(m6)</td>\n",
       "      <td>f</td>\n",
       "      <td>20</td>\n",
       "      <td>31</td>\n",
       "      <td>p</td>\n",
       "      <td>compact</td>\n",
       "    </tr>\n",
       "    <tr>\n",
       "      <th>4</th>\n",
       "      <td>audi</td>\n",
       "      <td>a4</td>\n",
       "      <td>2.0</td>\n",
       "      <td>2008</td>\n",
       "      <td>4</td>\n",
       "      <td>auto(av)</td>\n",
       "      <td>f</td>\n",
       "      <td>21</td>\n",
       "      <td>30</td>\n",
       "      <td>p</td>\n",
       "      <td>compact</td>\n",
       "    </tr>\n",
       "    <tr>\n",
       "      <th>5</th>\n",
       "      <td>audi</td>\n",
       "      <td>a4</td>\n",
       "      <td>2.8</td>\n",
       "      <td>1999</td>\n",
       "      <td>6</td>\n",
       "      <td>auto(l5)</td>\n",
       "      <td>f</td>\n",
       "      <td>16</td>\n",
       "      <td>26</td>\n",
       "      <td>p</td>\n",
       "      <td>compact</td>\n",
       "    </tr>\n",
       "  </tbody>\n",
       "</table>\n",
       "</div>"
      ],
      "text/plain": [
       "  manufacturer model  displ  year  cyl       trans drv  cty  hwy fl    class\n",
       "1         audi    a4    1.8  1999    4    auto(l5)   f   18   29  p  compact\n",
       "2         audi    a4    1.8  1999    4  manual(m5)   f   21   29  p  compact\n",
       "3         audi    a4    2.0  2008    4  manual(m6)   f   20   31  p  compact\n",
       "4         audi    a4    2.0  2008    4    auto(av)   f   21   30  p  compact\n",
       "5         audi    a4    2.8  1999    6    auto(l5)   f   16   26  p  compact"
      ]
     },
     "execution_count": 62,
     "metadata": {},
     "output_type": "execute_result"
    }
   ],
   "source": [
    "# Load the data set\n",
    "mpg = data('mpg')\n",
    "mpg.head()"
   ]
  },
  {
   "cell_type": "code",
   "execution_count": 63,
   "id": "a74b00ae-58d2-40b7-983c-799e04551663",
   "metadata": {},
   "outputs": [
    {
     "data": {
      "text/html": [
       "<div>\n",
       "<style scoped>\n",
       "    .dataframe tbody tr th:only-of-type {\n",
       "        vertical-align: middle;\n",
       "    }\n",
       "\n",
       "    .dataframe tbody tr th {\n",
       "        vertical-align: top;\n",
       "    }\n",
       "\n",
       "    .dataframe thead th {\n",
       "        text-align: right;\n",
       "    }\n",
       "</style>\n",
       "<table border=\"1\" class=\"dataframe\">\n",
       "  <thead>\n",
       "    <tr style=\"text-align: right;\">\n",
       "      <th></th>\n",
       "      <th>manufacturer</th>\n",
       "      <th>model</th>\n",
       "      <th>displ</th>\n",
       "      <th>year</th>\n",
       "      <th>cyl</th>\n",
       "      <th>trans</th>\n",
       "      <th>drv</th>\n",
       "      <th>cty</th>\n",
       "      <th>hwy</th>\n",
       "      <th>fl</th>\n",
       "      <th>class</th>\n",
       "      <th>avg_mpg</th>\n",
       "    </tr>\n",
       "  </thead>\n",
       "  <tbody>\n",
       "    <tr>\n",
       "      <th>1</th>\n",
       "      <td>audi</td>\n",
       "      <td>a4</td>\n",
       "      <td>1.8</td>\n",
       "      <td>1999</td>\n",
       "      <td>4</td>\n",
       "      <td>auto(l5)</td>\n",
       "      <td>f</td>\n",
       "      <td>18</td>\n",
       "      <td>29</td>\n",
       "      <td>p</td>\n",
       "      <td>compact</td>\n",
       "      <td>23.5</td>\n",
       "    </tr>\n",
       "    <tr>\n",
       "      <th>2</th>\n",
       "      <td>audi</td>\n",
       "      <td>a4</td>\n",
       "      <td>1.8</td>\n",
       "      <td>1999</td>\n",
       "      <td>4</td>\n",
       "      <td>manual(m5)</td>\n",
       "      <td>f</td>\n",
       "      <td>21</td>\n",
       "      <td>29</td>\n",
       "      <td>p</td>\n",
       "      <td>compact</td>\n",
       "      <td>25.0</td>\n",
       "    </tr>\n",
       "    <tr>\n",
       "      <th>3</th>\n",
       "      <td>audi</td>\n",
       "      <td>a4</td>\n",
       "      <td>2.0</td>\n",
       "      <td>2008</td>\n",
       "      <td>4</td>\n",
       "      <td>manual(m6)</td>\n",
       "      <td>f</td>\n",
       "      <td>20</td>\n",
       "      <td>31</td>\n",
       "      <td>p</td>\n",
       "      <td>compact</td>\n",
       "      <td>25.5</td>\n",
       "    </tr>\n",
       "    <tr>\n",
       "      <th>4</th>\n",
       "      <td>audi</td>\n",
       "      <td>a4</td>\n",
       "      <td>2.0</td>\n",
       "      <td>2008</td>\n",
       "      <td>4</td>\n",
       "      <td>auto(av)</td>\n",
       "      <td>f</td>\n",
       "      <td>21</td>\n",
       "      <td>30</td>\n",
       "      <td>p</td>\n",
       "      <td>compact</td>\n",
       "      <td>25.5</td>\n",
       "    </tr>\n",
       "    <tr>\n",
       "      <th>5</th>\n",
       "      <td>audi</td>\n",
       "      <td>a4</td>\n",
       "      <td>2.8</td>\n",
       "      <td>1999</td>\n",
       "      <td>6</td>\n",
       "      <td>auto(l5)</td>\n",
       "      <td>f</td>\n",
       "      <td>16</td>\n",
       "      <td>26</td>\n",
       "      <td>p</td>\n",
       "      <td>compact</td>\n",
       "      <td>21.0</td>\n",
       "    </tr>\n",
       "  </tbody>\n",
       "</table>\n",
       "</div>"
      ],
      "text/plain": [
       "  manufacturer model  displ  year  cyl       trans drv  cty  hwy fl    class  \\\n",
       "1         audi    a4    1.8  1999    4    auto(l5)   f   18   29  p  compact   \n",
       "2         audi    a4    1.8  1999    4  manual(m5)   f   21   29  p  compact   \n",
       "3         audi    a4    2.0  2008    4  manual(m6)   f   20   31  p  compact   \n",
       "4         audi    a4    2.0  2008    4    auto(av)   f   21   30  p  compact   \n",
       "5         audi    a4    2.8  1999    6    auto(l5)   f   16   26  p  compact   \n",
       "\n",
       "   avg_mpg  \n",
       "1     23.5  \n",
       "2     25.0  \n",
       "3     25.5  \n",
       "4     25.5  \n",
       "5     21.0  "
      ]
     },
     "execution_count": 63,
     "metadata": {},
     "output_type": "execute_result"
    }
   ],
   "source": [
    "# Create column with combined average gas mileage\n",
    "mpg['avg_mpg'] = (mpg.cty + mpg.hwy) / 2\n",
    "mpg.head()"
   ]
  },
  {
   "cell_type": "code",
   "execution_count": 65,
   "id": "85f1d799-65ad-45b3-8981-7961a8adc19f",
   "metadata": {},
   "outputs": [],
   "source": [
    "# Create my subgroups\n",
    "mpg_2008 = mpg[mpg.year == 2008].avg_mpg\n",
    "\n",
    "mpg_1999 = mpg[mpg.year == 1999].avg_mpg"
   ]
  },
  {
   "cell_type": "code",
   "execution_count": 94,
   "id": "ad454d1c-2418-40ac-9e89-4210e03746c7",
   "metadata": {},
   "outputs": [
    {
     "data": {
      "text/plain": [
       "117"
      ]
     },
     "execution_count": 94,
     "metadata": {},
     "output_type": "execute_result"
    },
    {
     "data": {
      "image/png": "[encoded data removed]",
      "text/plain": [
       "<Figure size 432x288 with 1 Axes>"
      ]
     },
     "metadata": {
      "needs_background": "light"
     },
     "output_type": "display_data"
    }
   ],
   "source": [
    "# mpg_2008 distribution -- approximately normal\n",
    "mpg_2008.hist()\n",
    "mpg_2008.count()"
   ]
  },
  {
   "cell_type": "code",
   "execution_count": 93,
   "id": "69ff06ed-1bbd-41f0-882c-1919b69088b8",
   "metadata": {},
   "outputs": [
    {
     "data": {
      "text/plain": [
       "117"
      ]
     },
     "execution_count": 93,
     "metadata": {},
     "output_type": "execute_result"
    },
    {
     "data": {
      "image/png": "[encoded data removed]",
      "text/plain": [
       "<Figure size 432x288 with 1 Axes>"
      ]
     },
     "metadata": {
      "needs_background": "light"
     },
     "output_type": "display_data"
    }
   ],
   "source": [
    "#mpg_1999 distribution - aprroximately normal\n",
    "mpg_1999.hist()\n",
    "mpg_1999.count()"
   ]
  },
  {
   "cell_type": "code",
   "execution_count": 68,
   "id": "c616bcf8-8add-4f9f-8e43-513716f17308",
   "metadata": {},
   "outputs": [
    {
     "data": {
      "text/plain": [
       "(24.097480106100797, 27.122605363984682)"
      ]
     },
     "execution_count": 68,
     "metadata": {},
     "output_type": "execute_result"
    }
   ],
   "source": [
    "# Compate the variance of both samples\n",
    "mpg_2008.var(), mpg_1999.var()\n",
    "# Roughly the same"
   ]
  },
  {
   "cell_type": "code",
   "execution_count": 35,
   "id": "17354956-054e-44bc-93e2-5d7406a422a6",
   "metadata": {},
   "outputs": [
    {
     "data": {
      "text/plain": [
       "LeveneResult(statistic=0.033228136671080453, pvalue=0.855517569468803)"
      ]
     },
     "execution_count": 35,
     "metadata": {},
     "output_type": "execute_result"
    }
   ],
   "source": [
    "stats.levene(mpg_2008, mpg_1999)"
   ]
  },
  {
   "cell_type": "code",
   "execution_count": 84,
   "id": "0b245b40-5582-4472-95e7-3e742af31503",
   "metadata": {},
   "outputs": [
    {
     "data": {
      "text/plain": [
       "(-0.21960177245940962, 0.8263744040323578)"
      ]
     },
     "execution_count": 84,
     "metadata": {},
     "output_type": "execute_result"
    }
   ],
   "source": [
    "# calculate t-statistic and p value \n",
    "alpha = .05\n",
    "t, p = stats.ttest_ind(mpg_2008, mpg_1999)\n",
    "t, p"
   ]
  },
  {
   "cell_type": "code",
   "execution_count": 88,
   "id": "d4a51c1d-90f4-4b16-b59e-2d0048d0df24",
   "metadata": {},
   "outputs": [
    {
     "name": "stdout",
     "output_type": "stream",
     "text": [
      "We fail to reject H0.\n"
     ]
    }
   ],
   "source": [
    "# Because it is a 2-tailed test\n",
    "if p < alpha: \n",
    "    print('We reject H0.')\n",
    "else: \n",
    "    print('We fail to reject H0.')"
   ]
  },
  {
   "cell_type": "code",
   "execution_count": 86,
   "id": "78d22d6a-9529-4c47-aabe-1034413e90c1",
   "metadata": {},
   "outputs": [
    {
     "data": {
      "text/plain": [
       "<matplotlib.legend.Legend at 0x7fb2c011d370>"
      ]
     },
     "execution_count": 86,
     "metadata": {},
     "output_type": "execute_result"
    },
    {
     "data": {
      "image/png": "[encoded data removed]",
      "text/plain": [
       "<Figure size 432x288 with 1 Axes>"
      ]
     },
     "metadata": {
      "needs_background": "light"
     },
     "output_type": "display_data"
    }
   ],
   "source": [
    "# Visualized \n",
    "plt.hist([mpg_2008, mpg_1999], label =['1999 Cars', '2008 Cars'])\n",
    "plt.legend()"
   ]
  },
  {
   "cell_type": "markdown",
   "id": "3d24e356-0eac-4738-84f2-2e7dc41c014b",
   "metadata": {},
   "source": [
    "- *Are compact cars more fuel-efficient than the average car?*\n"
   ]
  },
  {
   "cell_type": "markdown",
   "id": "401d9a43-0ee8-4c74-a53b-41837e782023",
   "metadata": {},
   "source": [
    "**My Hypotheses:**\n",
    "\n",
    "- $H0$: There is no difference in fuel efficiency between compact cars and the average car. \n",
    "\n",
    "- $Ha$: Compact cars ae more fuel efficient than the average car. "
   ]
  },
  {
   "cell_type": "code",
   "execution_count": 90,
   "id": "abd25414-9c97-4f05-8c42-bb71d85b8e53",
   "metadata": {},
   "outputs": [
    {
     "data": {
      "text/plain": [
       "1    23.5\n",
       "2    25.0\n",
       "3    25.5\n",
       "4    25.5\n",
       "5    21.0\n",
       "Name: avg_mpg, dtype: float64"
      ]
     },
     "execution_count": 90,
     "metadata": {},
     "output_type": "execute_result"
    }
   ],
   "source": [
    "# Create subgroup representing compact car fuel efficiency \n",
    "compact_mpg = mpg[mpg['class'] == 'compact'].avg_mpg\n",
    "compact_mpg.head()"
   ]
  },
  {
   "cell_type": "code",
   "execution_count": 89,
   "id": "da12f6d2-fc38-480b-9135-a78827af98f9",
   "metadata": {},
   "outputs": [
    {
     "data": {
      "text/plain": [
       "20.14957264957265"
      ]
     },
     "execution_count": 89,
     "metadata": {},
     "output_type": "execute_result"
    }
   ],
   "source": [
    "# Create variable representing average fuel efficiency of all cars in the population.\n",
    "\n",
    "population_avg = mpg.avg_mpg.mean()\n",
    "population_avg"
   ]
  },
  {
   "cell_type": "code",
   "execution_count": 92,
   "id": "f2db789e-87ff-443f-83ae-5c23ca001ce3",
   "metadata": {},
   "outputs": [
    {
     "data": {
      "text/plain": [
       "47"
      ]
     },
     "execution_count": 92,
     "metadata": {},
     "output_type": "execute_result"
    },
    {
     "data": {
      "image/png": "[encoded data removed]",
      "text/plain": [
       "<Figure size 432x288 with 1 Axes>"
      ]
     },
     "metadata": {
      "needs_background": "light"
     },
     "output_type": "display_data"
    }
   ],
   "source": [
    "# Approximately Normal Distribution for our subgroup\n",
    "compact_mpg.hist()\n",
    "compact_mpg.count()"
   ]
  },
  {
   "cell_type": "code",
   "execution_count": 96,
   "id": "9c22c51b-8163-4996-ba2d-62e956f376d7",
   "metadata": {},
   "outputs": [
    {
     "data": {
      "text/plain": [
       "(7.896888573132535, 4.1985637943171336e-10)"
      ]
     },
     "execution_count": 96,
     "metadata": {},
     "output_type": "execute_result"
    }
   ],
   "source": [
    "# Conduct our t-test\n",
    "t, p = stats.ttest_1samp(compact_mpg, population_avg)\n",
    "t, p"
   ]
  },
  {
   "cell_type": "code",
   "execution_count": 97,
   "id": "0db7791e-af33-4c04-a5dc-7ba0b463e459",
   "metadata": {},
   "outputs": [
    {
     "name": "stdout",
     "output_type": "stream",
     "text": [
      "We reject H0.\n"
     ]
    }
   ],
   "source": [
    "# Because it is a 1 sample test\n",
    "if p/2 < alpha: \n",
    "    print('We reject H0.')\n",
    "else: \n",
    "    print('We fail to reject H0.')"
   ]
  },
  {
   "cell_type": "markdown",
   "id": "be5b3b4b-c6be-44b7-b3a6-937f1640d02f",
   "metadata": {},
   "source": [
    "- Do manual cars get better gas mileage than automatic cars?"
   ]
  },
  {
   "cell_type": "markdown",
   "id": "ac290a7f-9140-4a94-8b93-207550de4515",
   "metadata": {},
   "source": [
    "H0: There is no difference in gas mileage between manual and automatic cars.\n",
    "\n",
    "Ha: Manual cars get better gas mileage than automatic cars. "
   ]
  },
  {
   "cell_type": "code",
   "execution_count": 45,
   "id": "36511594-a4b0-455c-a4fc-8a97ba16294d",
   "metadata": {},
   "outputs": [],
   "source": [
    "mpg_auto= mpg[mpg.trans.str.contains('auto')].avg_mpg\n",
    "mpg_manual = mpg[mpg.trans.str.contains('manual')].avg_mpg"
   ]
  },
  {
   "cell_type": "code",
   "execution_count": 98,
   "id": "4135b2a5-4f0e-4d16-a60c-a5119558df47",
   "metadata": {},
   "outputs": [
    {
     "data": {
      "text/plain": [
       "157"
      ]
     },
     "execution_count": 98,
     "metadata": {},
     "output_type": "execute_result"
    },
    {
     "data": {
      "image/png": "[encoded data removed]",
      "text/plain": [
       "<Figure size 432x288 with 1 Axes>"
      ]
     },
     "metadata": {
      "needs_background": "light"
     },
     "output_type": "display_data"
    }
   ],
   "source": [
    "# Approximately normal distribution \n",
    "mpg_auto.hist()\n",
    "mpg_auto.count()"
   ]
  },
  {
   "cell_type": "code",
   "execution_count": 99,
   "id": "fb409db1-ca7e-41b3-94b8-3f245156d269",
   "metadata": {},
   "outputs": [
    {
     "data": {
      "text/plain": [
       "77"
      ]
     },
     "execution_count": 99,
     "metadata": {},
     "output_type": "execute_result"
    },
    {
     "data": {
      "image/png": "[encoded data removed]",
      "text/plain": [
       "<Figure size 432x288 with 1 Axes>"
      ]
     },
     "metadata": {
      "needs_background": "light"
     },
     "output_type": "display_data"
    }
   ],
   "source": [
    "# Approximately normal distribution\n",
    "mpg_manual.hist()\n",
    "mpg_manual.count()"
   ]
  },
  {
   "cell_type": "code",
   "execution_count": 100,
   "id": "089f8db0-e8a8-4970-a175-d937df48a589",
   "metadata": {},
   "outputs": [
    {
     "data": {
      "text/plain": [
       "(21.942777233382337, 26.635167464114826)"
      ]
     },
     "execution_count": 100,
     "metadata": {},
     "output_type": "execute_result"
    }
   ],
   "source": [
    "# Comparing variances\n",
    "mpg_auto.var(), mpg_manual.var()"
   ]
  },
  {
   "cell_type": "code",
   "execution_count": 101,
   "id": "526fee6e-6772-40ce-8ea5-5ed153acc226",
   "metadata": {},
   "outputs": [
    {
     "data": {
      "text/plain": [
       "LeveneResult(statistic=0.20075824847529639, pvalue=0.6545276355131857)"
      ]
     },
     "execution_count": 101,
     "metadata": {},
     "output_type": "execute_result"
    }
   ],
   "source": [
    "#Levene test to check for unequal variances\n",
    "stats.levene(mpg_auto, mpg_manual)\n",
    "\n",
    "# p value above .05, so I can't assert a difference in variance"
   ]
  },
  {
   "cell_type": "code",
   "execution_count": 102,
   "id": "0e52f799-020d-4615-a9d6-d517f47b6f82",
   "metadata": {},
   "outputs": [
    {
     "data": {
      "text/plain": [
       "(4.593437735750014, 7.154374401145683e-06, 0.05)"
      ]
     },
     "execution_count": 102,
     "metadata": {},
     "output_type": "execute_result"
    }
   ],
   "source": [
    "# Conduct our t-test\n",
    "t, p = stats.ttest_ind(mpg_manual, mpg_auto)\n",
    "t, p, alpha"
   ]
  },
  {
   "cell_type": "code",
   "execution_count": 103,
   "id": "bdeb81bd-b2f6-4037-b171-1ec3565117d4",
   "metadata": {},
   "outputs": [
    {
     "name": "stdout",
     "output_type": "stream",
     "text": [
      "We reject H0.\n"
     ]
    }
   ],
   "source": [
    "#Because it's a 1 sample test\n",
    "\n",
    "if p/2 < alpha: \n",
    "    print('We reject H0.')\n",
    "else: \n",
    "    print('We fail to reject H0.')"
   ]
  },
  {
   "cell_type": "markdown",
   "id": "02794fa0-ec38-4cbe-a9a1-82aa3a6377b7",
   "metadata": {},
   "source": [
    "## Correlation Exercises"
   ]
  },
  {
   "cell_type": "code",
   "execution_count": null,
   "id": "d25b64ce-d4ab-4ca6-9277-e9c513efed05",
   "metadata": {},
   "outputs": [],
   "source": []
  }
 ],
 "metadata": {
  "kernelspec": {
   "display_name": "Python 3.9.7 64-bit ('base': conda)",
   "language": "python",
   "name": "python397jvsc74a57bd038cca0c38332a56087b24af0bc80247f4fced29cb4f7f437d91dc159adec9c4e"
  },
  "language_info": {
   "codemirror_mode": {
    "name": "ipython",
    "version": 3
   },
   "file_extension": ".py",
   "mimetype": "text/x-python",
   "name": "python",
   "nbconvert_exporter": "python",
   "pygments_lexer": "ipython3",
   "version": "3.9.7"
  }
 },
 "nbformat": 4,
 "nbformat_minor": 5
}
