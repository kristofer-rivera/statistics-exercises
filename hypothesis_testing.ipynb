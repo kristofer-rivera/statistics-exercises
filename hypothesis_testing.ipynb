{
 "cells": [
  {
   "cell_type": "markdown",
   "id": "b3f3a3db",
   "metadata": {},
   "source": [
    "For each of the following questions, formulate a null and alternative hypothesis (be as specific as you can be), then give an example of what a true positive, true negative, type I and type II errors would look like. Note that some of the questions are intentionally phrased in a vague way. It is your job to reword these as more precise questions that could be tested."
   ]
  },
  {
   "cell_type": "markdown",
   "id": "767e6869",
   "metadata": {},
   "source": [
    "- Has the network latency gone up since we switched internet service providers?"
   ]
  },
  {
   "cell_type": "code",
   "execution_count": null,
   "id": "08a873eb",
   "metadata": {},
   "outputs": [],
   "source": [
    "H0: Network latency has remained the same since we switched internet service providers.\n",
    "Ha: Network latency has gone up since we switched internet service providers. "
   ]
  },
  {
   "cell_type": "markdown",
   "id": "8c91be36",
   "metadata": {},
   "source": [
    "True Positive: We conclude that latency has gone up since switching providers and that is actually the case.\n",
    "\n",
    "True Negative: We conclude that latency has remained the same since the switch and that is actually the case. \n",
    "\n",
    "Type I Error: We reject the our null hypothesis that latency has remaine the same when latency has indeed remained the same. \n",
    "\n",
    "Type II Error: We don't reject our null hypothesis and conclude that there is no latency difference when latency really did go up or there was a change. \n"
   ]
  },
  {
   "cell_type": "markdown",
   "id": "6064eae3",
   "metadata": {},
   "source": [
    "- Is the website redesign any good?"
   ]
  },
  {
   "cell_type": "markdown",
   "id": "d5cb49a4",
   "metadata": {},
   "source": [
    "H0: The new website design doesn't attract any more traffic than the old one.\n",
    "\n",
    "Ha: The new website design increases traffic. "
   ]
  },
  {
   "cell_type": "markdown",
   "id": "2fdb9d96",
   "metadata": {},
   "source": [
    "True Positive: We conclude that there is an increase in traffic and that is actually the case.\n",
    "\n",
    "True Negative: We conclude that website traffic has remained the same and that is actually the case. \n",
    "\n",
    "Type I Error: We reject our null hypothesis that the redesign doesn't attract more traffic than the old one when in fact there is no change in website traffic. \n",
    "\n",
    "Type II Error: We don't reject our null hypothesis, and conclude that there is no traffic change when in fact there was a change. "
   ]
  },
  {
   "cell_type": "markdown",
   "id": "1ce35960",
   "metadata": {},
   "source": [
    "- Is our television ad driving more sales?"
   ]
  },
  {
   "cell_type": "markdown",
   "id": "84eec25e",
   "metadata": {},
   "source": [
    "H0: The television add didn't increase sales. \n",
    "\n",
    "Ha: The television add caused an increase in sales. "
   ]
  },
  {
   "cell_type": "markdown",
   "id": "4a8ee498",
   "metadata": {},
   "source": [
    "True Positive: We conclude that the add caused an increase in sales and that is actually the case. \n",
    "\n",
    "True Negative: We conclude that the television add did not increase sales and that is actually the case.\n",
    "\n",
    "Type I Error: We reject our null hypothesis that the aa\n",
    "\n",
    "Type II Error:"
   ]
  }
 ],
 "metadata": {
  "kernelspec": {
   "display_name": "Python 3.9.7 64-bit ('base': conda)",
   "language": "python",
   "name": "python397jvsc74a57bd038cca0c38332a56087b24af0bc80247f4fced29cb4f7f437d91dc159adec9c4e"
  },
  "language_info": {
   "codemirror_mode": {
    "name": "ipython",
    "version": 3
   },
   "file_extension": ".py",
   "mimetype": "text/x-python",
   "name": "python",
   "nbconvert_exporter": "python",
   "pygments_lexer": "ipython3",
   "version": "3.9.7"
  }
 },
 "nbformat": 4,
 "nbformat_minor": 5
}
